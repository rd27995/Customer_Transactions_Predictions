{
  "nbformat": 4,
  "nbformat_minor": 0,
  "metadata": {
    "colab": {
      "name": "Copy of Customer_Pred.ipynb",
      "version": "0.3.2",
      "provenance": [],
      "include_colab_link": true
    },
    "kernelspec": {
      "display_name": "Python 3",
      "language": "python",
      "name": "python3"
    }
  },
  "cells": [
    {
      "cell_type": "markdown",
      "metadata": {
        "id": "view-in-github",
        "colab_type": "text"
      },
      "source": [
        "<a href=\"https://colab.research.google.com/github/rd27995/Kaggle_Competition/blob/Model_2/Neural_Network.ipynb\" target=\"_parent\"><img src=\"https://colab.research.google.com/assets/colab-badge.svg\" alt=\"Open In Colab\"/></a>"
      ]
    },
    {
      "metadata": {
        "colab_type": "code",
        "id": "tRqJ2zdIPLcW",
        "colab": {}
      },
      "cell_type": "code",
      "source": [
        "#Import the essentials\n",
        "import numpy as np\n",
        "import pandas as pd\n",
        "from keras.models import Sequential\n",
        "from keras.layers import Dense\n",
        "from keras.wrappers.scikit_learn import KerasClassifier\n",
        "from sklearn.model_selection import cross_val_score, cross_val_predict\n",
        "from sklearn.preprocessing import LabelEncoder\n",
        "from sklearn.model_selection import StratifiedKFold\n",
        "from sklearn.preprocessing import StandardScaler\n",
        "from sklearn.pipeline import Pipeline\n",
        "from sklearn import metrics"
      ],
      "execution_count": 0,
      "outputs": []
    },
    {
      "metadata": {
        "id": "XzzJVOcKCajd",
        "colab_type": "code",
        "colab": {}
      },
      "cell_type": "code",
      "source": [
        "##Read the data\n",
        "train_data = pd.read_csv('train.csv')\n",
        "test_data=pd.read_csv('test.csv')"
      ],
      "execution_count": 0,
      "outputs": []
    },
    {
      "metadata": {
        "id": "MOjlJRI9Caji",
        "colab_type": "code",
        "outputId": "31b3caf9-3b91-46aa-bdaf-35f30c75b369",
        "colab": {
          "base_uri": "https://localhost:8080/",
          "height": 34
        }
      },
      "cell_type": "code",
      "source": [
        "## Get the shape\n",
        "train_data.shape"
      ],
      "execution_count": 12,
      "outputs": [
        {
          "output_type": "execute_result",
          "data": {
            "text/plain": [
              "(200000, 202)"
            ]
          },
          "metadata": {
            "tags": []
          },
          "execution_count": 12
        }
      ]
    },
    {
      "metadata": {
        "id": "UjGfO64VCajt",
        "colab_type": "code",
        "outputId": "6e424845-25b3-466b-d7fb-455ed3e7a953",
        "colab": {
          "base_uri": "https://localhost:8080/",
          "height": 244
        }
      },
      "cell_type": "code",
      "source": [
        "  ##Take a glimpse\n",
        "X.head()"
      ],
      "execution_count": 0,
      "outputs": [
        {
          "output_type": "execute_result",
          "data": {
            "text/html": [
              "<div>\n",
              "<style scoped>\n",
              "    .dataframe tbody tr th:only-of-type {\n",
              "        vertical-align: middle;\n",
              "    }\n",
              "\n",
              "    .dataframe tbody tr th {\n",
              "        vertical-align: top;\n",
              "    }\n",
              "\n",
              "    .dataframe thead th {\n",
              "        text-align: right;\n",
              "    }\n",
              "</style>\n",
              "<table border=\"1\" class=\"dataframe\">\n",
              "  <thead>\n",
              "    <tr style=\"text-align: right;\">\n",
              "      <th></th>\n",
              "      <th>var_0</th>\n",
              "      <th>var_1</th>\n",
              "      <th>var_2</th>\n",
              "      <th>var_3</th>\n",
              "      <th>var_4</th>\n",
              "      <th>var_5</th>\n",
              "      <th>var_6</th>\n",
              "      <th>var_7</th>\n",
              "      <th>var_8</th>\n",
              "      <th>var_9</th>\n",
              "      <th>...</th>\n",
              "      <th>var_190</th>\n",
              "      <th>var_191</th>\n",
              "      <th>var_192</th>\n",
              "      <th>var_193</th>\n",
              "      <th>var_194</th>\n",
              "      <th>var_195</th>\n",
              "      <th>var_196</th>\n",
              "      <th>var_197</th>\n",
              "      <th>var_198</th>\n",
              "      <th>var_199</th>\n",
              "    </tr>\n",
              "  </thead>\n",
              "  <tbody>\n",
              "    <tr>\n",
              "      <th>0</th>\n",
              "      <td>8.9255</td>\n",
              "      <td>-6.7863</td>\n",
              "      <td>11.9081</td>\n",
              "      <td>5.0930</td>\n",
              "      <td>11.4607</td>\n",
              "      <td>-9.2834</td>\n",
              "      <td>5.1187</td>\n",
              "      <td>18.6266</td>\n",
              "      <td>-4.9200</td>\n",
              "      <td>5.7470</td>\n",
              "      <td>...</td>\n",
              "      <td>4.4354</td>\n",
              "      <td>3.9642</td>\n",
              "      <td>3.1364</td>\n",
              "      <td>1.6910</td>\n",
              "      <td>18.5227</td>\n",
              "      <td>-2.3978</td>\n",
              "      <td>7.8784</td>\n",
              "      <td>8.5635</td>\n",
              "      <td>12.7803</td>\n",
              "      <td>-1.0914</td>\n",
              "    </tr>\n",
              "    <tr>\n",
              "      <th>1</th>\n",
              "      <td>11.5006</td>\n",
              "      <td>-4.1473</td>\n",
              "      <td>13.8588</td>\n",
              "      <td>5.3890</td>\n",
              "      <td>12.3622</td>\n",
              "      <td>7.0433</td>\n",
              "      <td>5.6208</td>\n",
              "      <td>16.5338</td>\n",
              "      <td>3.1468</td>\n",
              "      <td>8.0851</td>\n",
              "      <td>...</td>\n",
              "      <td>7.6421</td>\n",
              "      <td>7.7214</td>\n",
              "      <td>2.5837</td>\n",
              "      <td>10.9516</td>\n",
              "      <td>15.4305</td>\n",
              "      <td>2.0339</td>\n",
              "      <td>8.1267</td>\n",
              "      <td>8.7889</td>\n",
              "      <td>18.3560</td>\n",
              "      <td>1.9518</td>\n",
              "    </tr>\n",
              "    <tr>\n",
              "      <th>2</th>\n",
              "      <td>8.6093</td>\n",
              "      <td>-2.7457</td>\n",
              "      <td>12.0805</td>\n",
              "      <td>7.8928</td>\n",
              "      <td>10.5825</td>\n",
              "      <td>-9.0837</td>\n",
              "      <td>6.9427</td>\n",
              "      <td>14.6155</td>\n",
              "      <td>-4.9193</td>\n",
              "      <td>5.9525</td>\n",
              "      <td>...</td>\n",
              "      <td>2.9057</td>\n",
              "      <td>9.7905</td>\n",
              "      <td>1.6704</td>\n",
              "      <td>1.6858</td>\n",
              "      <td>21.6042</td>\n",
              "      <td>3.1417</td>\n",
              "      <td>-6.5213</td>\n",
              "      <td>8.2675</td>\n",
              "      <td>14.7222</td>\n",
              "      <td>0.3965</td>\n",
              "    </tr>\n",
              "    <tr>\n",
              "      <th>3</th>\n",
              "      <td>11.0604</td>\n",
              "      <td>-2.1518</td>\n",
              "      <td>8.9522</td>\n",
              "      <td>7.1957</td>\n",
              "      <td>12.5846</td>\n",
              "      <td>-1.8361</td>\n",
              "      <td>5.8428</td>\n",
              "      <td>14.9250</td>\n",
              "      <td>-5.8609</td>\n",
              "      <td>8.2450</td>\n",
              "      <td>...</td>\n",
              "      <td>4.4666</td>\n",
              "      <td>4.7433</td>\n",
              "      <td>0.7178</td>\n",
              "      <td>1.4214</td>\n",
              "      <td>23.0347</td>\n",
              "      <td>-1.2706</td>\n",
              "      <td>-2.9275</td>\n",
              "      <td>10.2922</td>\n",
              "      <td>17.9697</td>\n",
              "      <td>-8.9996</td>\n",
              "    </tr>\n",
              "    <tr>\n",
              "      <th>4</th>\n",
              "      <td>9.8369</td>\n",
              "      <td>-1.4834</td>\n",
              "      <td>12.8746</td>\n",
              "      <td>6.6375</td>\n",
              "      <td>12.2772</td>\n",
              "      <td>2.4486</td>\n",
              "      <td>5.9405</td>\n",
              "      <td>19.2514</td>\n",
              "      <td>6.2654</td>\n",
              "      <td>7.6784</td>\n",
              "      <td>...</td>\n",
              "      <td>-1.4905</td>\n",
              "      <td>9.5214</td>\n",
              "      <td>-0.1508</td>\n",
              "      <td>9.1942</td>\n",
              "      <td>13.2876</td>\n",
              "      <td>-1.5121</td>\n",
              "      <td>3.9267</td>\n",
              "      <td>9.5031</td>\n",
              "      <td>17.9974</td>\n",
              "      <td>-8.8104</td>\n",
              "    </tr>\n",
              "  </tbody>\n",
              "</table>\n",
              "<p>5 rows × 200 columns</p>\n",
              "</div>"
            ],
            "text/plain": [
              "     var_0   var_1    var_2   var_3    var_4   var_5   var_6    var_7   var_8  \\\n",
              "0   8.9255 -6.7863  11.9081  5.0930  11.4607 -9.2834  5.1187  18.6266 -4.9200   \n",
              "1  11.5006 -4.1473  13.8588  5.3890  12.3622  7.0433  5.6208  16.5338  3.1468   \n",
              "2   8.6093 -2.7457  12.0805  7.8928  10.5825 -9.0837  6.9427  14.6155 -4.9193   \n",
              "3  11.0604 -2.1518   8.9522  7.1957  12.5846 -1.8361  5.8428  14.9250 -5.8609   \n",
              "4   9.8369 -1.4834  12.8746  6.6375  12.2772  2.4486  5.9405  19.2514  6.2654   \n",
              "\n",
              "    var_9   ...     var_190  var_191  var_192  var_193  var_194  var_195  \\\n",
              "0  5.7470   ...      4.4354   3.9642   3.1364   1.6910  18.5227  -2.3978   \n",
              "1  8.0851   ...      7.6421   7.7214   2.5837  10.9516  15.4305   2.0339   \n",
              "2  5.9525   ...      2.9057   9.7905   1.6704   1.6858  21.6042   3.1417   \n",
              "3  8.2450   ...      4.4666   4.7433   0.7178   1.4214  23.0347  -1.2706   \n",
              "4  7.6784   ...     -1.4905   9.5214  -0.1508   9.1942  13.2876  -1.5121   \n",
              "\n",
              "   var_196  var_197  var_198  var_199  \n",
              "0   7.8784   8.5635  12.7803  -1.0914  \n",
              "1   8.1267   8.7889  18.3560   1.9518  \n",
              "2  -6.5213   8.2675  14.7222   0.3965  \n",
              "3  -2.9275  10.2922  17.9697  -8.9996  \n",
              "4   3.9267   9.5031  17.9974  -8.8104  \n",
              "\n",
              "[5 rows x 200 columns]"
            ]
          },
          "metadata": {
            "tags": []
          },
          "execution_count": 16
        }
      ]
    },
    {
      "metadata": {
        "id": "lN5NgcnJCakV",
        "colab_type": "code",
        "colab": {}
      },
      "cell_type": "code",
      "source": [
        "train_data = train_data.loc[:, train_data.columns != 'ID_code']\n",
        "customer = test_data.loc[:, test_data.columns != 'ID_code']"
      ],
      "execution_count": 0,
      "outputs": []
    },
    {
      "metadata": {
        "id": "_9byP0GzCakb",
        "colab_type": "code",
        "colab": {}
      },
      "cell_type": "code",
      "source": [
        "X = train_data.loc[:, train_data.columns != 'target']\n",
        "y = train_data.iloc[:,0]"
      ],
      "execution_count": 0,
      "outputs": []
    },
    {
      "metadata": {
        "id": "2In3p-ivCako",
        "colab_type": "code",
        "colab": {}
      },
      "cell_type": "code",
      "source": [
        "customers_w= customer.loc[:, customer.columns != 'ID_code']\n"
      ],
      "execution_count": 0,
      "outputs": []
    },
    {
      "metadata": {
        "id": "rTdia8yACakv",
        "colab_type": "code",
        "outputId": "d2ae1122-bf9a-4724-bed3-d2b27d315d75",
        "colab": {
          "base_uri": "https://localhost:8080/",
          "height": 118
        }
      },
      "cell_type": "code",
      "source": [
        "y.head()"
      ],
      "execution_count": 0,
      "outputs": [
        {
          "output_type": "execute_result",
          "data": {
            "text/plain": [
              "0    0\n",
              "1    0\n",
              "2    0\n",
              "3    0\n",
              "4    0\n",
              "Name: target, dtype: int64"
            ]
          },
          "metadata": {
            "tags": []
          },
          "execution_count": 19
        }
      ]
    },
    {
      "metadata": {
        "id": "NwJ4CIg8Cak5",
        "colab_type": "code",
        "colab": {}
      },
      "cell_type": "code",
      "source": [
        "#build a basic logit model\n",
        "\n",
        "from sklearn.model_selection import train_test_split"
      ],
      "execution_count": 0,
      "outputs": []
    },
    {
      "metadata": {
        "id": "zyq7wbSKCak_",
        "colab_type": "code",
        "colab": {}
      },
      "cell_type": "code",
      "source": [
        "X_train, X_test, y_train, y_test = train_test_split(X, y, test_size = 0.20,random_state=123)"
      ],
      "execution_count": 0,
      "outputs": []
    },
    {
      "metadata": {
        "id": "A51gMarwCalG",
        "colab_type": "code",
        "outputId": "384e40ea-e2dd-4d30-b94b-3fb4db580061",
        "colab": {
          "base_uri": "https://localhost:8080/",
          "height": 244
        }
      },
      "cell_type": "code",
      "source": [
        "X_train.head()"
      ],
      "execution_count": 0,
      "outputs": [
        {
          "output_type": "execute_result",
          "data": {
            "text/html": [
              "<div>\n",
              "<style scoped>\n",
              "    .dataframe tbody tr th:only-of-type {\n",
              "        vertical-align: middle;\n",
              "    }\n",
              "\n",
              "    .dataframe tbody tr th {\n",
              "        vertical-align: top;\n",
              "    }\n",
              "\n",
              "    .dataframe thead th {\n",
              "        text-align: right;\n",
              "    }\n",
              "</style>\n",
              "<table border=\"1\" class=\"dataframe\">\n",
              "  <thead>\n",
              "    <tr style=\"text-align: right;\">\n",
              "      <th></th>\n",
              "      <th>var_0</th>\n",
              "      <th>var_1</th>\n",
              "      <th>var_2</th>\n",
              "      <th>var_3</th>\n",
              "      <th>var_4</th>\n",
              "      <th>var_5</th>\n",
              "      <th>var_6</th>\n",
              "      <th>var_7</th>\n",
              "      <th>var_8</th>\n",
              "      <th>var_9</th>\n",
              "      <th>...</th>\n",
              "      <th>var_190</th>\n",
              "      <th>var_191</th>\n",
              "      <th>var_192</th>\n",
              "      <th>var_193</th>\n",
              "      <th>var_194</th>\n",
              "      <th>var_195</th>\n",
              "      <th>var_196</th>\n",
              "      <th>var_197</th>\n",
              "      <th>var_198</th>\n",
              "      <th>var_199</th>\n",
              "    </tr>\n",
              "  </thead>\n",
              "  <tbody>\n",
              "    <tr>\n",
              "      <th>125714</th>\n",
              "      <td>11.4791</td>\n",
              "      <td>0.4721</td>\n",
              "      <td>11.6491</td>\n",
              "      <td>2.8147</td>\n",
              "      <td>11.9129</td>\n",
              "      <td>-3.5222</td>\n",
              "      <td>4.7829</td>\n",
              "      <td>21.0751</td>\n",
              "      <td>3.0464</td>\n",
              "      <td>7.3589</td>\n",
              "      <td>...</td>\n",
              "      <td>-3.5621</td>\n",
              "      <td>9.3558</td>\n",
              "      <td>-0.9132</td>\n",
              "      <td>1.3818</td>\n",
              "      <td>17.7582</td>\n",
              "      <td>-0.6620</td>\n",
              "      <td>4.5177</td>\n",
              "      <td>9.7471</td>\n",
              "      <td>14.1922</td>\n",
              "      <td>-3.8321</td>\n",
              "    </tr>\n",
              "    <tr>\n",
              "      <th>149585</th>\n",
              "      <td>9.9893</td>\n",
              "      <td>4.9190</td>\n",
              "      <td>17.1635</td>\n",
              "      <td>5.6806</td>\n",
              "      <td>11.0406</td>\n",
              "      <td>-11.3340</td>\n",
              "      <td>6.0441</td>\n",
              "      <td>17.5113</td>\n",
              "      <td>-4.3194</td>\n",
              "      <td>7.6422</td>\n",
              "      <td>...</td>\n",
              "      <td>1.3875</td>\n",
              "      <td>7.8681</td>\n",
              "      <td>4.9082</td>\n",
              "      <td>1.5909</td>\n",
              "      <td>17.8250</td>\n",
              "      <td>1.0812</td>\n",
              "      <td>7.2966</td>\n",
              "      <td>8.4768</td>\n",
              "      <td>15.4487</td>\n",
              "      <td>-2.1618</td>\n",
              "    </tr>\n",
              "    <tr>\n",
              "      <th>27244</th>\n",
              "      <td>12.8085</td>\n",
              "      <td>-2.6705</td>\n",
              "      <td>5.9245</td>\n",
              "      <td>5.9104</td>\n",
              "      <td>11.4729</td>\n",
              "      <td>-13.1428</td>\n",
              "      <td>5.2582</td>\n",
              "      <td>16.0739</td>\n",
              "      <td>2.3920</td>\n",
              "      <td>9.3071</td>\n",
              "      <td>...</td>\n",
              "      <td>5.3411</td>\n",
              "      <td>2.4666</td>\n",
              "      <td>1.6046</td>\n",
              "      <td>4.8630</td>\n",
              "      <td>17.6553</td>\n",
              "      <td>-2.2474</td>\n",
              "      <td>11.1551</td>\n",
              "      <td>8.6029</td>\n",
              "      <td>15.2536</td>\n",
              "      <td>-8.0695</td>\n",
              "    </tr>\n",
              "    <tr>\n",
              "      <th>136859</th>\n",
              "      <td>7.0864</td>\n",
              "      <td>1.4003</td>\n",
              "      <td>11.2668</td>\n",
              "      <td>7.9028</td>\n",
              "      <td>9.4605</td>\n",
              "      <td>-17.3608</td>\n",
              "      <td>4.9076</td>\n",
              "      <td>25.6480</td>\n",
              "      <td>2.3065</td>\n",
              "      <td>9.0890</td>\n",
              "      <td>...</td>\n",
              "      <td>2.1096</td>\n",
              "      <td>9.0320</td>\n",
              "      <td>0.7102</td>\n",
              "      <td>1.2167</td>\n",
              "      <td>16.6201</td>\n",
              "      <td>1.1312</td>\n",
              "      <td>4.6771</td>\n",
              "      <td>7.7211</td>\n",
              "      <td>17.8585</td>\n",
              "      <td>-19.2296</td>\n",
              "    </tr>\n",
              "    <tr>\n",
              "      <th>154257</th>\n",
              "      <td>11.9604</td>\n",
              "      <td>-2.0534</td>\n",
              "      <td>17.9088</td>\n",
              "      <td>9.6810</td>\n",
              "      <td>12.4646</td>\n",
              "      <td>-10.5527</td>\n",
              "      <td>4.1052</td>\n",
              "      <td>19.9041</td>\n",
              "      <td>-0.5836</td>\n",
              "      <td>7.1742</td>\n",
              "      <td>...</td>\n",
              "      <td>6.2539</td>\n",
              "      <td>3.0084</td>\n",
              "      <td>4.7971</td>\n",
              "      <td>7.8370</td>\n",
              "      <td>20.2879</td>\n",
              "      <td>-0.4888</td>\n",
              "      <td>-3.6133</td>\n",
              "      <td>10.8112</td>\n",
              "      <td>14.5239</td>\n",
              "      <td>-20.4520</td>\n",
              "    </tr>\n",
              "  </tbody>\n",
              "</table>\n",
              "<p>5 rows × 200 columns</p>\n",
              "</div>"
            ],
            "text/plain": [
              "          var_0   var_1    var_2   var_3    var_4    var_5   var_6    var_7  \\\n",
              "125714  11.4791  0.4721  11.6491  2.8147  11.9129  -3.5222  4.7829  21.0751   \n",
              "149585   9.9893  4.9190  17.1635  5.6806  11.0406 -11.3340  6.0441  17.5113   \n",
              "27244   12.8085 -2.6705   5.9245  5.9104  11.4729 -13.1428  5.2582  16.0739   \n",
              "136859   7.0864  1.4003  11.2668  7.9028   9.4605 -17.3608  4.9076  25.6480   \n",
              "154257  11.9604 -2.0534  17.9088  9.6810  12.4646 -10.5527  4.1052  19.9041   \n",
              "\n",
              "         var_8   var_9   ...     var_190  var_191  var_192  var_193  var_194  \\\n",
              "125714  3.0464  7.3589   ...     -3.5621   9.3558  -0.9132   1.3818  17.7582   \n",
              "149585 -4.3194  7.6422   ...      1.3875   7.8681   4.9082   1.5909  17.8250   \n",
              "27244   2.3920  9.3071   ...      5.3411   2.4666   1.6046   4.8630  17.6553   \n",
              "136859  2.3065  9.0890   ...      2.1096   9.0320   0.7102   1.2167  16.6201   \n",
              "154257 -0.5836  7.1742   ...      6.2539   3.0084   4.7971   7.8370  20.2879   \n",
              "\n",
              "        var_195  var_196  var_197  var_198  var_199  \n",
              "125714  -0.6620   4.5177   9.7471  14.1922  -3.8321  \n",
              "149585   1.0812   7.2966   8.4768  15.4487  -2.1618  \n",
              "27244   -2.2474  11.1551   8.6029  15.2536  -8.0695  \n",
              "136859   1.1312   4.6771   7.7211  17.8585 -19.2296  \n",
              "154257  -0.4888  -3.6133  10.8112  14.5239 -20.4520  \n",
              "\n",
              "[5 rows x 200 columns]"
            ]
          },
          "metadata": {
            "tags": []
          },
          "execution_count": 36
        }
      ]
    },
    {
      "metadata": {
        "id": "H0GUmDlFCamW",
        "colab_type": "code",
        "outputId": "0cefd6a8-d5e4-4b1b-9ad7-74216fa79ff4",
        "colab": {
          "base_uri": "https://localhost:8080/",
          "height": 134
        }
      },
      "cell_type": "code",
      "source": [
        "train_data.values"
      ],
      "execution_count": 9,
      "outputs": [
        {
          "output_type": "execute_result",
          "data": {
            "text/plain": [
              "array([['train_0', 0, 8.9255, ..., 8.5635, 12.7803, -1.0914],\n",
              "       ['train_1', 0, 11.5006, ..., 8.7889, 18.355999999999998, 1.9518],\n",
              "       ['train_2', 0, 8.6093, ..., 8.2675, 14.7222, 0.3965],\n",
              "       ...,\n",
              "       ['train_70825', 0, 14.7035, ..., 9.2816, 13.4693, 0.6207],\n",
              "       ['train_70826', 0, 16.61, ..., 8.7702, 19.9171, -14.5516],\n",
              "       ['train_70827', 0, 7.289, ..., nan, nan, nan]], dtype=object)"
            ]
          },
          "metadata": {
            "tags": []
          },
          "execution_count": 9
        }
      ]
    },
    {
      "metadata": {
        "id": "t8B91GPZCapI",
        "colab_type": "code",
        "colab": {}
      },
      "cell_type": "code",
      "source": [
        "sc = StandardScaler()"
      ],
      "execution_count": 0,
      "outputs": []
    },
    {
      "metadata": {
        "id": "bHPDs9G0fWpK",
        "colab_type": "text"
      },
      "cell_type": "markdown",
      "source": [
        ""
      ]
    },
    {
      "metadata": {
        "id": "zFQ_4JNtvlgm",
        "colab_type": "code",
        "colab": {}
      },
      "cell_type": "code",
      "source": [
        "X_train1 = sc.fit_transform(X_train)\n",
        "X_test1 = sc.transform(X_test)"
      ],
      "execution_count": 0,
      "outputs": []
    },
    {
      "metadata": {
        "id": "iz2tT1-gv1--",
        "colab_type": "code",
        "colab": {}
      },
      "cell_type": "code",
      "source": [
        "import lightgbm as lgb"
      ],
      "execution_count": 0,
      "outputs": []
    },
    {
      "metadata": {
        "id": "Y6QSvUZlv9pb",
        "colab_type": "code",
        "colab": {}
      },
      "cell_type": "code",
      "source": [
        "d_train = lgb.Dataset(X_train1,y_train)"
      ],
      "execution_count": 0,
      "outputs": []
    },
    {
      "metadata": {
        "id": "_DsQQzcH8r5t",
        "colab_type": "code",
        "colab": {}
      },
      "cell_type": "code",
      "source": [
        "## Best Iteration"
      ],
      "execution_count": 0,
      "outputs": []
    },
    {
      "metadata": {
        "id": "GUJfmjsIwhvy",
        "colab_type": "code",
        "colab": {}
      },
      "cell_type": "code",
      "source": [
        "params = {}\n",
        "params['learning_rate'] = 0.01\n",
        "params['boosting_type'] = 'gbdt'\n",
        "params['objective'] = 'binary'\n",
        "params['metric'] = 'binary_error'\n",
        "params['n_thread'] = 3\n",
        "params['num_leaves'] = 32\n",
        "params['subsample_for_bin'] = 200\n",
        "params['bagging_fraction'] = 0.75\n",
        "params['bagging_freq'] = 1\n",
        "params['colsample_bytree'] = 0.8\n",
        "params['reg_alpha'] = 3\n",
        "params['reg_lambda'] = 6\n",
        "params['min_split_gain'] = 0.5\n",
        "params['min_child_weight'] = 1\n",
        "params['min_child_samples'] = 5\n",
        "params['scale_pause_weight'] = 1\n",
        "params['num_class'] =1\n",
        "params['max_depth'] = 9\n",
        "params['min_data_in_leaf']=1875\n",
        "#clf = lgb.train(params, d_train, 2000)"
      ],
      "execution_count": 0,
      "outputs": []
    },
    {
      "metadata": {
        "id": "iXOeqd2e07o2",
        "colab_type": "code",
        "colab": {}
      },
      "cell_type": "code",
      "source": [
        "#Prediction\n",
        "y_pred=clf.predict(X_test1,num_iteration = clf.best_iteration)\n"
      ],
      "execution_count": 0,
      "outputs": []
    },
    {
      "metadata": {
        "id": "C0uFVn_Y1fBW",
        "colab_type": "code",
        "outputId": "cc7dc82a-3ae3-43ee-a1f1-53a4f36032ef",
        "colab": {
          "base_uri": "https://localhost:8080/",
          "height": 34
        }
      },
      "cell_type": "code",
      "source": [
        "fpr, tpr, thresholds = metrics.roc_curve(y_test, y_pred, pos_label=None)\n",
        "metrics.auc(fpr,tpr)"
      ],
      "execution_count": 0,
      "outputs": [
        {
          "output_type": "execute_result",
          "data": {
            "text/plain": [
              "0.8877499522451267"
            ]
          },
          "metadata": {
            "tags": []
          },
          "execution_count": 79
        }
      ]
    },
    {
      "metadata": {
        "id": "v2rqvAu1HKBu",
        "colab_type": "code",
        "colab": {}
      },
      "cell_type": "code",
      "source": [
        "#convert into binary values\n",
        "for i in range(0,len(customers_w)):\n",
        "    if y_pred[i]>=0.1:   \n",
        "       y_pred[i]=1\n",
        "       \n",
        "    else:  \n",
        "       y_pred[i]=0"
      ],
      "execution_count": 0,
      "outputs": []
    },
    {
      "metadata": {
        "id": "nViQHQjMLAOC",
        "colab_type": "code",
        "colab": {}
      },
      "cell_type": "code",
      "source": [
        "customers_w = customers.loc[:, customers.columns != 'ID_code']"
      ],
      "execution_count": 0,
      "outputs": []
    },
    {
      "metadata": {
        "id": "r844Lg4nLNjA",
        "colab_type": "code",
        "outputId": "3e559915-6e19-4050-8b02-e7758bd24c6f",
        "colab": {
          "base_uri": "https://localhost:8080/",
          "height": 253
        }
      },
      "cell_type": "code",
      "source": [
        "customers_w.head()"
      ],
      "execution_count": 0,
      "outputs": [
        {
          "output_type": "execute_result",
          "data": {
            "text/html": [
              "<div>\n",
              "<style scoped>\n",
              "    .dataframe tbody tr th:only-of-type {\n",
              "        vertical-align: middle;\n",
              "    }\n",
              "\n",
              "    .dataframe tbody tr th {\n",
              "        vertical-align: top;\n",
              "    }\n",
              "\n",
              "    .dataframe thead th {\n",
              "        text-align: right;\n",
              "    }\n",
              "</style>\n",
              "<table border=\"1\" class=\"dataframe\">\n",
              "  <thead>\n",
              "    <tr style=\"text-align: right;\">\n",
              "      <th></th>\n",
              "      <th>var_0</th>\n",
              "      <th>var_1</th>\n",
              "      <th>var_2</th>\n",
              "      <th>var_3</th>\n",
              "      <th>var_4</th>\n",
              "      <th>var_5</th>\n",
              "      <th>var_6</th>\n",
              "      <th>var_7</th>\n",
              "      <th>var_8</th>\n",
              "      <th>var_9</th>\n",
              "      <th>...</th>\n",
              "      <th>var_190</th>\n",
              "      <th>var_191</th>\n",
              "      <th>var_192</th>\n",
              "      <th>var_193</th>\n",
              "      <th>var_194</th>\n",
              "      <th>var_195</th>\n",
              "      <th>var_196</th>\n",
              "      <th>var_197</th>\n",
              "      <th>var_198</th>\n",
              "      <th>var_199</th>\n",
              "    </tr>\n",
              "  </thead>\n",
              "  <tbody>\n",
              "    <tr>\n",
              "      <th>0</th>\n",
              "      <td>11.0656</td>\n",
              "      <td>7.7798</td>\n",
              "      <td>12.9536</td>\n",
              "      <td>9.4292</td>\n",
              "      <td>11.4327</td>\n",
              "      <td>-2.3805</td>\n",
              "      <td>5.8493</td>\n",
              "      <td>18.2675</td>\n",
              "      <td>2.1337</td>\n",
              "      <td>8.8100</td>\n",
              "      <td>...</td>\n",
              "      <td>-2.1556</td>\n",
              "      <td>11.8495</td>\n",
              "      <td>-1.4300</td>\n",
              "      <td>2.4508</td>\n",
              "      <td>13.7112</td>\n",
              "      <td>2.4669</td>\n",
              "      <td>4.3654</td>\n",
              "      <td>10.7200</td>\n",
              "      <td>15.4722</td>\n",
              "      <td>-8.7197</td>\n",
              "    </tr>\n",
              "    <tr>\n",
              "      <th>1</th>\n",
              "      <td>8.5304</td>\n",
              "      <td>1.2543</td>\n",
              "      <td>11.3047</td>\n",
              "      <td>5.1858</td>\n",
              "      <td>9.1974</td>\n",
              "      <td>-4.0117</td>\n",
              "      <td>6.0196</td>\n",
              "      <td>18.6316</td>\n",
              "      <td>-4.4131</td>\n",
              "      <td>5.9739</td>\n",
              "      <td>...</td>\n",
              "      <td>10.6165</td>\n",
              "      <td>8.8349</td>\n",
              "      <td>0.9403</td>\n",
              "      <td>10.1282</td>\n",
              "      <td>15.5765</td>\n",
              "      <td>0.4773</td>\n",
              "      <td>-1.4852</td>\n",
              "      <td>9.8714</td>\n",
              "      <td>19.1293</td>\n",
              "      <td>-20.9760</td>\n",
              "    </tr>\n",
              "    <tr>\n",
              "      <th>2</th>\n",
              "      <td>5.4827</td>\n",
              "      <td>-10.3581</td>\n",
              "      <td>10.1407</td>\n",
              "      <td>7.0479</td>\n",
              "      <td>10.2628</td>\n",
              "      <td>9.8052</td>\n",
              "      <td>4.8950</td>\n",
              "      <td>20.2537</td>\n",
              "      <td>1.5233</td>\n",
              "      <td>8.3442</td>\n",
              "      <td>...</td>\n",
              "      <td>-0.7484</td>\n",
              "      <td>10.9935</td>\n",
              "      <td>1.9803</td>\n",
              "      <td>2.1800</td>\n",
              "      <td>12.9813</td>\n",
              "      <td>2.1281</td>\n",
              "      <td>-7.1086</td>\n",
              "      <td>7.0618</td>\n",
              "      <td>19.8956</td>\n",
              "      <td>-23.1794</td>\n",
              "    </tr>\n",
              "    <tr>\n",
              "      <th>3</th>\n",
              "      <td>8.5374</td>\n",
              "      <td>-1.3222</td>\n",
              "      <td>12.0220</td>\n",
              "      <td>6.5749</td>\n",
              "      <td>8.8458</td>\n",
              "      <td>3.1744</td>\n",
              "      <td>4.9397</td>\n",
              "      <td>20.5660</td>\n",
              "      <td>3.3755</td>\n",
              "      <td>7.4578</td>\n",
              "      <td>...</td>\n",
              "      <td>9.5702</td>\n",
              "      <td>9.0766</td>\n",
              "      <td>1.6580</td>\n",
              "      <td>3.5813</td>\n",
              "      <td>15.1874</td>\n",
              "      <td>3.1656</td>\n",
              "      <td>3.9567</td>\n",
              "      <td>9.2295</td>\n",
              "      <td>13.0168</td>\n",
              "      <td>-4.2108</td>\n",
              "    </tr>\n",
              "    <tr>\n",
              "      <th>4</th>\n",
              "      <td>11.7058</td>\n",
              "      <td>-0.1327</td>\n",
              "      <td>14.1295</td>\n",
              "      <td>7.7506</td>\n",
              "      <td>9.1035</td>\n",
              "      <td>-8.5848</td>\n",
              "      <td>6.8595</td>\n",
              "      <td>10.6048</td>\n",
              "      <td>2.9890</td>\n",
              "      <td>7.1437</td>\n",
              "      <td>...</td>\n",
              "      <td>4.2259</td>\n",
              "      <td>9.1723</td>\n",
              "      <td>1.2835</td>\n",
              "      <td>3.3778</td>\n",
              "      <td>19.5542</td>\n",
              "      <td>-0.2860</td>\n",
              "      <td>-5.1612</td>\n",
              "      <td>7.2882</td>\n",
              "      <td>13.9260</td>\n",
              "      <td>-9.1846</td>\n",
              "    </tr>\n",
              "  </tbody>\n",
              "</table>\n",
              "<p>5 rows × 200 columns</p>\n",
              "</div>"
            ],
            "text/plain": [
              "     var_0    var_1    var_2   var_3    var_4   var_5   var_6    var_7  \\\n",
              "0  11.0656   7.7798  12.9536  9.4292  11.4327 -2.3805  5.8493  18.2675   \n",
              "1   8.5304   1.2543  11.3047  5.1858   9.1974 -4.0117  6.0196  18.6316   \n",
              "2   5.4827 -10.3581  10.1407  7.0479  10.2628  9.8052  4.8950  20.2537   \n",
              "3   8.5374  -1.3222  12.0220  6.5749   8.8458  3.1744  4.9397  20.5660   \n",
              "4  11.7058  -0.1327  14.1295  7.7506   9.1035 -8.5848  6.8595  10.6048   \n",
              "\n",
              "    var_8   var_9   ...     var_190  var_191  var_192  var_193  var_194  \\\n",
              "0  2.1337  8.8100   ...     -2.1556  11.8495  -1.4300   2.4508  13.7112   \n",
              "1 -4.4131  5.9739   ...     10.6165   8.8349   0.9403  10.1282  15.5765   \n",
              "2  1.5233  8.3442   ...     -0.7484  10.9935   1.9803   2.1800  12.9813   \n",
              "3  3.3755  7.4578   ...      9.5702   9.0766   1.6580   3.5813  15.1874   \n",
              "4  2.9890  7.1437   ...      4.2259   9.1723   1.2835   3.3778  19.5542   \n",
              "\n",
              "   var_195  var_196  var_197  var_198  var_199  \n",
              "0   2.4669   4.3654  10.7200  15.4722  -8.7197  \n",
              "1   0.4773  -1.4852   9.8714  19.1293 -20.9760  \n",
              "2   2.1281  -7.1086   7.0618  19.8956 -23.1794  \n",
              "3   3.1656   3.9567   9.2295  13.0168  -4.2108  \n",
              "4  -0.2860  -5.1612   7.2882  13.9260  -9.1846  \n",
              "\n",
              "[5 rows x 200 columns]"
            ]
          },
          "metadata": {
            "tags": []
          },
          "execution_count": 67
        }
      ]
    },
    {
      "metadata": {
        "id": "W3Wsq6INLTIP",
        "colab_type": "code",
        "colab": {}
      },
      "cell_type": "code",
      "source": [
        "#Submission Prediction\n",
        "y_pred=clf.predict(customers_w)\n"
      ],
      "execution_count": 0,
      "outputs": []
    },
    {
      "metadata": {
        "id": "1c29JH7VPDV5",
        "colab_type": "code",
        "colab": {}
      },
      "cell_type": "code",
      "source": [
        "#convert into binary values\n",
        "for i in range(0,len(customers_w)):\n",
        "    if y_pred[i]>=.5:      \n",
        "       y_pred[i]=1\n",
        "    else:  \n",
        "       y_pred[i]=0"
      ],
      "execution_count": 0,
      "outputs": []
    },
    {
      "metadata": {
        "id": "0f0r2_7qCalr",
        "colab_type": "code",
        "colab": {}
      },
      "cell_type": "code",
      "source": [
        "from sklearn.metrics import confusion_matrix"
      ],
      "execution_count": 0,
      "outputs": []
    },
    {
      "metadata": {
        "id": "6ynxd1TxCalw",
        "colab_type": "code",
        "colab": {}
      },
      "cell_type": "code",
      "source": [
        "cm = confusion_matrix(y_test,y_pred)"
      ],
      "execution_count": 0,
      "outputs": []
    },
    {
      "metadata": {
        "id": "_0SxxgB7Cal6",
        "colab_type": "code",
        "outputId": "90b05e45-8699-4ebc-d2f9-5ca728362f5f",
        "colab": {}
      },
      "cell_type": "code",
      "source": [
        "cm"
      ],
      "execution_count": 0,
      "outputs": [
        {
          "output_type": "execute_result",
          "data": {
            "text/plain": [
              "array([[53201,   711],\n",
              "       [ 4461,  1627]], dtype=int64)"
            ]
          },
          "metadata": {
            "tags": []
          },
          "execution_count": 152
        }
      ]
    },
    {
      "metadata": {
        "id": "wpCJ0HHkCamD",
        "colab_type": "code",
        "colab": {}
      },
      "cell_type": "code",
      "source": [
        "fpr, tpr, thresholds = metrics.roc_curve(y_test, y_pred, pos_label=None)\n"
      ],
      "execution_count": 0,
      "outputs": []
    },
    {
      "metadata": {
        "id": "W_rNo855CamM",
        "colab_type": "code",
        "outputId": "c7a2a36b-877f-4c8b-b22b-bbdd0598f532",
        "colab": {}
      },
      "cell_type": "code",
      "source": [
        "metrics.auc(fpr, tpr)"
      ],
      "execution_count": 0,
      "outputs": [
        {
          "output_type": "execute_result",
          "data": {
            "text/plain": [
              "0.6270294424417541"
            ]
          },
          "metadata": {
            "tags": []
          },
          "execution_count": 158
        }
      ]
    },
    {
      "metadata": {
        "id": "GKySb7UwONQd",
        "colab_type": "code",
        "colab": {}
      },
      "cell_type": "code",
      "source": [
        "## To check the values in the outcome of test data\n",
        "\n",
        "sub2_df = pd.DataFrame({\"Check\":y_pred})\n"
      ],
      "execution_count": 0,
      "outputs": []
    },
    {
      "metadata": {
        "id": "Si0hsku6QFLS",
        "colab_type": "code",
        "outputId": "c5c952ba-4a9f-43dc-e4ec-d56e0d7e648e",
        "colab": {
          "base_uri": "https://localhost:8080/",
          "height": 68
        }
      },
      "cell_type": "code",
      "source": [
        "sub2_df.Check.value_counts()"
      ],
      "execution_count": 0,
      "outputs": [
        {
          "output_type": "execute_result",
          "data": {
            "text/plain": [
              "0.0    111811\n",
              "1.0     88189\n",
              "Name: Check, dtype: int64"
            ]
          },
          "metadata": {
            "tags": []
          },
          "execution_count": 77
        }
      ]
    },
    {
      "metadata": {
        "id": "ZvFk9HgbNNIz",
        "colab_type": "code",
        "colab": {}
      },
      "cell_type": "code",
      "source": [
        "sub_df = pd.DataFrame({\"ID_code\": test_data[\"ID_code\"].values})"
      ],
      "execution_count": 0,
      "outputs": []
    },
    {
      "metadata": {
        "id": "uehnYl_IKDx_",
        "colab_type": "code",
        "colab": {}
      },
      "cell_type": "code",
      "source": [
        "sub_df['Target'] = y_pred"
      ],
      "execution_count": 0,
      "outputs": []
    },
    {
      "metadata": {
        "id": "mqKZhHhNKLXG",
        "colab_type": "code",
        "outputId": "c1aed316-7fb7-4c4c-8cc3-7b7935699f41",
        "colab": {
          "base_uri": "https://localhost:8080/",
          "height": 343
        }
      },
      "cell_type": "code",
      "source": [
        "sub_df.head(n=10)"
      ],
      "execution_count": 0,
      "outputs": [
        {
          "output_type": "execute_result",
          "data": {
            "text/html": [
              "<div>\n",
              "<style scoped>\n",
              "    .dataframe tbody tr th:only-of-type {\n",
              "        vertical-align: middle;\n",
              "    }\n",
              "\n",
              "    .dataframe tbody tr th {\n",
              "        vertical-align: top;\n",
              "    }\n",
              "\n",
              "    .dataframe thead th {\n",
              "        text-align: right;\n",
              "    }\n",
              "</style>\n",
              "<table border=\"1\" class=\"dataframe\">\n",
              "  <thead>\n",
              "    <tr style=\"text-align: right;\">\n",
              "      <th></th>\n",
              "      <th>ID_code</th>\n",
              "      <th>Target</th>\n",
              "    </tr>\n",
              "  </thead>\n",
              "  <tbody>\n",
              "    <tr>\n",
              "      <th>0</th>\n",
              "      <td>test_0</td>\n",
              "      <td>0.881119</td>\n",
              "    </tr>\n",
              "    <tr>\n",
              "      <th>1</th>\n",
              "      <td>test_1</td>\n",
              "      <td>0.762464</td>\n",
              "    </tr>\n",
              "    <tr>\n",
              "      <th>2</th>\n",
              "      <td>test_2</td>\n",
              "      <td>0.829372</td>\n",
              "    </tr>\n",
              "    <tr>\n",
              "      <th>3</th>\n",
              "      <td>test_3</td>\n",
              "      <td>0.848873</td>\n",
              "    </tr>\n",
              "    <tr>\n",
              "      <th>4</th>\n",
              "      <td>test_4</td>\n",
              "      <td>0.847817</td>\n",
              "    </tr>\n",
              "    <tr>\n",
              "      <th>5</th>\n",
              "      <td>test_5</td>\n",
              "      <td>0.768867</td>\n",
              "    </tr>\n",
              "    <tr>\n",
              "      <th>6</th>\n",
              "      <td>test_6</td>\n",
              "      <td>0.753833</td>\n",
              "    </tr>\n",
              "    <tr>\n",
              "      <th>7</th>\n",
              "      <td>test_7</td>\n",
              "      <td>0.868398</td>\n",
              "    </tr>\n",
              "    <tr>\n",
              "      <th>8</th>\n",
              "      <td>test_8</td>\n",
              "      <td>0.646610</td>\n",
              "    </tr>\n",
              "    <tr>\n",
              "      <th>9</th>\n",
              "      <td>test_9</td>\n",
              "      <td>0.548871</td>\n",
              "    </tr>\n",
              "  </tbody>\n",
              "</table>\n",
              "</div>"
            ],
            "text/plain": [
              "  ID_code    Target\n",
              "0  test_0  0.881119\n",
              "1  test_1  0.762464\n",
              "2  test_2  0.829372\n",
              "3  test_3  0.848873\n",
              "4  test_4  0.847817\n",
              "5  test_5  0.768867\n",
              "6  test_6  0.753833\n",
              "7  test_7  0.868398\n",
              "8  test_8  0.646610\n",
              "9  test_9  0.548871"
            ]
          },
          "metadata": {
            "tags": []
          },
          "execution_count": 58
        }
      ]
    },
    {
      "metadata": {
        "id": "dJdOOsziQ2c0",
        "colab_type": "code",
        "outputId": "83d04899-d733-4fb3-867d-4228f3d2c0bc",
        "colab": {
          "base_uri": "https://localhost:8080/",
          "height": 34
        }
      },
      "cell_type": "code",
      "source": [
        "y_pred.min()"
      ],
      "execution_count": 0,
      "outputs": [
        {
          "output_type": "execute_result",
          "data": {
            "text/plain": [
              "0.3747507297875012"
            ]
          },
          "metadata": {
            "tags": []
          },
          "execution_count": 59
        }
      ]
    },
    {
      "metadata": {
        "id": "CMIDp6RjlJg3",
        "colab_type": "code",
        "colab": {}
      },
      "cell_type": "code",
      "source": [
        "from sklearn.metrics import confusion_matrix"
      ],
      "execution_count": 0,
      "outputs": []
    },
    {
      "metadata": {
        "id": "vu70z4qjlLVh",
        "colab_type": "code",
        "outputId": "a207ad1e-5815-4029-bfeb-3e3af9ec3bff",
        "colab": {
          "base_uri": "https://localhost:8080/",
          "height": 51
        }
      },
      "cell_type": "code",
      "source": [
        "cm = confusion_matrix(y_test,y_pred)\n",
        "cm"
      ],
      "execution_count": 0,
      "outputs": [
        {
          "output_type": "execute_result",
          "data": {
            "text/plain": [
              "array([[36680,  8224],\n",
              "       [ 1305,  3791]])"
            ]
          },
          "metadata": {
            "tags": []
          },
          "execution_count": 59
        }
      ]
    },
    {
      "metadata": {
        "id": "UQEEhs00TMfz",
        "colab_type": "text"
      },
      "cell_type": "markdown",
      "source": [
        ""
      ]
    },
    {
      "metadata": {
        "id": "xO8V8pyHKg0w",
        "colab_type": "code",
        "colab": {}
      },
      "cell_type": "code",
      "source": [
        "## Excel\n",
        "\n",
        "sub_df.to_csv('Submission_4',sep = ',')"
      ],
      "execution_count": 0,
      "outputs": []
    },
    {
      "metadata": {
        "id": "6AZW4PpzKztj",
        "colab_type": "code",
        "colab": {}
      },
      "cell_type": "code",
      "source": [
        "num_round = 10000\n",
        "kfold = 5\n",
        "folds = StratifiedKFold(n_splits=kfold, shuffle=False, random_state=44000)\n",
        "oof = np.zeros(len(X))\n",
        "predictions = np.zeros(len(y))\n"
      ],
      "execution_count": 0,
      "outputs": []
    },
    {
      "metadata": {
        "id": "4bDCXlu2QJkp",
        "colab_type": "code",
        "colab": {}
      },
      "cell_type": "code",
      "source": [
        "features = [c for c in train_data.columns if c not in ['ID_code', 'target']]"
      ],
      "execution_count": 0,
      "outputs": []
    },
    {
      "metadata": {
        "id": "6u8eSAz5dran",
        "colab_type": "code",
        "outputId": "9351be91-8935-4bbd-839d-1d834294f6db",
        "colab": {
          "base_uri": "https://localhost:8080/",
          "height": 1176
        }
      },
      "cell_type": "code",
      "source": [
        "for fold_, (trn_idx, val_idx) in enumerate(folds.split(train_data.values, y.values)):\n",
        "    print(\"Fold {}\".format(fold_))\n",
        "    trn_data = lgb.Dataset(train_data.iloc[trn_idx][features], label=y.iloc[trn_idx])\n",
        "    val_data = lgb.Dataset(train_data.iloc[val_idx][features], label=y.iloc[val_idx])\n",
        "    clf = lgb.train(params, trn_data, num_round, valid_sets = [trn_data, val_data], verbose_eval=1000, early_stopping_rounds = 3500)\n",
        "    oof[val_idx] = clf.predict(train_data.iloc[val_idx][features], num_iteration=clf.best_iteration)\n",
        "    predictions += clf.predict(test_data[features], num_iteration=clf.best_iteration) / folds.n_splits"
      ],
      "execution_count": 0,
      "outputs": [
        {
          "output_type": "stream",
          "text": [
            "Fold 0\n",
            "Training until validation scores don't improve for 3500 rounds.\n",
            "[1000]\ttraining's binary_error: 0.0910131\tvalid_1's binary_error: 0.0948226\n",
            "[2000]\ttraining's binary_error: 0.072813\tvalid_1's binary_error: 0.0838979\n",
            "[3000]\ttraining's binary_error: 0.0630879\tvalid_1's binary_error: 0.079973\n",
            "[4000]\ttraining's binary_error: 0.0570066\tvalid_1's binary_error: 0.0776981\n",
            "[5000]\ttraining's binary_error: 0.0520378\tvalid_1's binary_error: 0.0772231\n",
            "[6000]\ttraining's binary_error: 0.0472378\tvalid_1's binary_error: 0.0770481\n",
            "[7000]\ttraining's binary_error: 0.0427003\tvalid_1's binary_error: 0.0768731\n",
            "[8000]\ttraining's binary_error: 0.0381877\tvalid_1's binary_error: 0.0773231\n",
            "[9000]\ttraining's binary_error: 0.033694\tvalid_1's binary_error: 0.0773731\n",
            "[10000]\ttraining's binary_error: 0.0297439\tvalid_1's binary_error: 0.0772731\n",
            "Did not meet early stopping. Best iteration is:\n",
            "[9994]\ttraining's binary_error: 0.0297127\tvalid_1's binary_error: 0.0772731\n",
            "Fold 1\n",
            "Training until validation scores don't improve for 3500 rounds.\n",
            "[1000]\ttraining's binary_error: 0.0911756\tvalid_1's binary_error: 0.0955976\n",
            "[2000]\ttraining's binary_error: 0.0727817\tvalid_1's binary_error: 0.0844479\n",
            "[3000]\ttraining's binary_error: 0.0625941\tvalid_1's binary_error: 0.080348\n",
            "[4000]\ttraining's binary_error: 0.0564816\tvalid_1's binary_error: 0.078098\n",
            "[5000]\ttraining's binary_error: 0.0514628\tvalid_1's binary_error: 0.078098\n",
            "[6000]\ttraining's binary_error: 0.0466753\tvalid_1's binary_error: 0.0778981\n",
            "[7000]\ttraining's binary_error: 0.0420565\tvalid_1's binary_error: 0.0777231\n",
            "[8000]\ttraining's binary_error: 0.037544\tvalid_1's binary_error: 0.0776231\n",
            "[9000]\ttraining's binary_error: 0.0333127\tvalid_1's binary_error: 0.0774731\n",
            "[10000]\ttraining's binary_error: 0.0290877\tvalid_1's binary_error: 0.0774981\n",
            "Did not meet early stopping. Best iteration is:\n",
            "[10000]\ttraining's binary_error: 0.0290877\tvalid_1's binary_error: 0.0774981\n",
            "Fold 2\n",
            "Training until validation scores don't improve for 3500 rounds.\n",
            "[1000]\ttraining's binary_error: 0.0909688\tvalid_1's binary_error: 0.0949\n",
            "[2000]\ttraining's binary_error: 0.0731062\tvalid_1's binary_error: 0.08375\n",
            "[3000]\ttraining's binary_error: 0.0634813\tvalid_1's binary_error: 0.07885\n",
            "[4000]\ttraining's binary_error: 0.0570312\tvalid_1's binary_error: 0.077575\n",
            "[5000]\ttraining's binary_error: 0.052025\tvalid_1's binary_error: 0.076425\n",
            "[6000]\ttraining's binary_error: 0.0472375\tvalid_1's binary_error: 0.0759\n",
            "[7000]\ttraining's binary_error: 0.0425562\tvalid_1's binary_error: 0.075825\n",
            "[8000]\ttraining's binary_error: 0.0380438\tvalid_1's binary_error: 0.0755\n",
            "[9000]\ttraining's binary_error: 0.03365\tvalid_1's binary_error: 0.07585\n",
            "[10000]\ttraining's binary_error: 0.0294562\tvalid_1's binary_error: 0.075975\n",
            "Did not meet early stopping. Best iteration is:\n",
            "[9995]\ttraining's binary_error: 0.0294312\tvalid_1's binary_error: 0.075925\n",
            "Fold 3\n",
            "Training until validation scores don't improve for 3500 rounds.\n",
            "[1000]\ttraining's binary_error: 0.0909994\tvalid_1's binary_error: 0.0953774\n",
            "[2000]\ttraining's binary_error: 0.072587\tvalid_1's binary_error: 0.0846771\n",
            "[3000]\ttraining's binary_error: 0.0630996\tvalid_1's binary_error: 0.080577\n",
            "[4000]\ttraining's binary_error: 0.0566246\tvalid_1's binary_error: 0.078827\n",
            "[5000]\ttraining's binary_error: 0.0520372\tvalid_1's binary_error: 0.078202\n",
            "[6000]\ttraining's binary_error: 0.0471122\tvalid_1's binary_error: 0.078052\n",
            "[7000]\ttraining's binary_error: 0.042356\tvalid_1's binary_error: 0.078202\n",
            "[8000]\ttraining's binary_error: 0.0379748\tvalid_1's binary_error: 0.078227\n",
            "[9000]\ttraining's binary_error: 0.033481\tvalid_1's binary_error: 0.078227\n",
            "Early stopping, best iteration is:\n",
            "[6308]\ttraining's binary_error: 0.0454997\tvalid_1's binary_error: 0.0777769\n",
            "Fold 4\n",
            "Training until validation scores don't improve for 3500 rounds.\n",
            "[1000]\ttraining's binary_error: 0.0913932\tvalid_1's binary_error: 0.0942274\n",
            "[2000]\ttraining's binary_error: 0.0732245\tvalid_1's binary_error: 0.0836771\n",
            "[3000]\ttraining's binary_error: 0.0634309\tvalid_1's binary_error: 0.078402\n",
            "[4000]\ttraining's binary_error: 0.0574184\tvalid_1's binary_error: 0.0762019\n",
            "[5000]\ttraining's binary_error: 0.0524059\tvalid_1's binary_error: 0.0752019\n",
            "[6000]\ttraining's binary_error: 0.0478122\tvalid_1's binary_error: 0.0751019\n",
            "[7000]\ttraining's binary_error: 0.043131\tvalid_1's binary_error: 0.0748019\n",
            "[8000]\ttraining's binary_error: 0.0384623\tvalid_1's binary_error: 0.0747019\n",
            "[9000]\ttraining's binary_error: 0.033981\tvalid_1's binary_error: 0.0749769\n",
            "[10000]\ttraining's binary_error: 0.0298186\tvalid_1's binary_error: 0.0751269\n",
            "Did not meet early stopping. Best iteration is:\n",
            "[9999]\ttraining's binary_error: 0.0298123\tvalid_1's binary_error: 0.0751019\n"
          ],
          "name": "stdout"
        }
      ]
    },
    {
      "metadata": {
        "id": "lj4bNZLvRZHK",
        "colab_type": "code",
        "outputId": "7b4ac62c-c595-4308-a1ca-2ec6bcba7b56",
        "colab": {
          "base_uri": "https://localhost:8080/",
          "height": 50
        }
      },
      "cell_type": "code",
      "source": [
        "print(\"\\n >> CV score: {:<8.5f}\".format(roc_auc_score(y, oof)))"
      ],
      "execution_count": 0,
      "outputs": [
        {
          "output_type": "stream",
          "text": [
            "\n",
            " >> CV score: 0.89599 \n"
          ],
          "name": "stdout"
        }
      ]
    },
    {
      "metadata": {
        "id": "HwlbE_iGqHv5",
        "colab_type": "code",
        "outputId": "a338beaa-76c5-41c9-d45f-eecc96333d9a",
        "colab": {
          "base_uri": "https://localhost:8080/",
          "height": 34
        }
      },
      "cell_type": "code",
      "source": [
        "predictions.min()"
      ],
      "execution_count": 0,
      "outputs": [
        {
          "output_type": "execute_result",
          "data": {
            "text/plain": [
              "1.7929903203843738e-05"
            ]
          },
          "metadata": {
            "tags": []
          },
          "execution_count": 38
        }
      ]
    },
    {
      "metadata": {
        "id": "BA76H7uNThjc",
        "colab_type": "text"
      },
      "cell_type": "markdown",
      "source": [
        "**Submission File Generation**"
      ]
    },
    {
      "metadata": {
        "id": "Uz8Y3DK4qWV6",
        "colab_type": "code",
        "colab": {}
      },
      "cell_type": "code",
      "source": [
        "submission=pd.DataFrame({\"ID_code\": test_data.ID_code.values})\n",
        "submission[\"target\"]=predictions\n",
        "submission.to_csv(\"submission_10.csv\", index=False)"
      ],
      "execution_count": 0,
      "outputs": []
    },
    {
      "metadata": {
        "id": "pZO6Q6sqvO5V",
        "colab_type": "code",
        "colab": {}
      },
      "cell_type": "code",
      "source": [
        ""
      ],
      "execution_count": 0,
      "outputs": []
    },
    {
      "metadata": {
        "id": "FbXkhF_2TqsH",
        "colab_type": "text"
      },
      "cell_type": "markdown",
      "source": [
        "**Neural Network  Baseline Model**"
      ]
    },
    {
      "metadata": {
        "id": "PaWpyVQGT5My",
        "colab_type": "code",
        "colab": {
          "base_uri": "https://localhost:8080/",
          "height": 3394
        },
        "outputId": "c1839eb8-8f30-457a-82dd-9616bd7fa49e"
      },
      "cell_type": "code",
      "source": [
        "# baseline model\n",
        "# create model\n",
        "model = Sequential()\n",
        "model.add(Dense(200, input_dim=200, kernel_initializer='normal', activation='relu'))\n",
        "model.add(Dense(1, kernel_initializer='normal', activation='sigmoid'))\n",
        "# Compile model\n",
        "model.compile(loss='binary_crossentropy', optimizer='adam', metrics=['binary_accuracy'])\n",
        "model.fit(X,y, epochs=100, verbose=1, validation_split=0.20,)"
      ],
      "execution_count": 49,
      "outputs": [
        {
          "output_type": "stream",
          "text": [
            "Epoch 1/100\n",
            "160000/160000 [==============================] - 13s 80us/step - loss: 0.2700 - binary_accuracy: 0.9047\n",
            "Epoch 2/100\n",
            "160000/160000 [==============================] - 12s 76us/step - loss: 0.2535 - binary_accuracy: 0.9082\n",
            "Epoch 3/100\n",
            "160000/160000 [==============================] - 12s 76us/step - loss: 0.2494 - binary_accuracy: 0.9091\n",
            "Epoch 4/100\n",
            "160000/160000 [==============================] - 12s 76us/step - loss: 0.2475 - binary_accuracy: 0.9101\n",
            "Epoch 5/100\n",
            "160000/160000 [==============================] - 12s 77us/step - loss: 0.2456 - binary_accuracy: 0.9103\n",
            "Epoch 6/100\n",
            "160000/160000 [==============================] - 12s 76us/step - loss: 0.2445 - binary_accuracy: 0.9104\n",
            "Epoch 7/100\n",
            "160000/160000 [==============================] - 13s 80us/step - loss: 0.2433 - binary_accuracy: 0.9113\n",
            "Epoch 8/100\n",
            "160000/160000 [==============================] - 13s 80us/step - loss: 0.2430 - binary_accuracy: 0.9112\n",
            "Epoch 9/100\n",
            "160000/160000 [==============================] - 12s 78us/step - loss: 0.2421 - binary_accuracy: 0.9115\n",
            "Epoch 10/100\n",
            "160000/160000 [==============================] - 12s 76us/step - loss: 0.2420 - binary_accuracy: 0.9112\n",
            "Epoch 11/100\n",
            "160000/160000 [==============================] - 12s 75us/step - loss: 0.2414 - binary_accuracy: 0.9116\n",
            "Epoch 12/100\n",
            "160000/160000 [==============================] - 12s 76us/step - loss: 0.2407 - binary_accuracy: 0.9114\n",
            "Epoch 13/100\n",
            "160000/160000 [==============================] - 12s 74us/step - loss: 0.2409 - binary_accuracy: 0.9118\n",
            "Epoch 14/100\n",
            "160000/160000 [==============================] - 12s 76us/step - loss: 0.2396 - binary_accuracy: 0.9121\n",
            "Epoch 15/100\n",
            "160000/160000 [==============================] - 13s 83us/step - loss: 0.2397 - binary_accuracy: 0.9119\n",
            "Epoch 16/100\n",
            "160000/160000 [==============================] - 12s 78us/step - loss: 0.2389 - binary_accuracy: 0.9125\n",
            "Epoch 17/100\n",
            "160000/160000 [==============================] - 13s 79us/step - loss: 0.2387 - binary_accuracy: 0.9119\n",
            "Epoch 18/100\n",
            "160000/160000 [==============================] - 12s 75us/step - loss: 0.2386 - binary_accuracy: 0.9126\n",
            "Epoch 19/100\n",
            "160000/160000 [==============================] - 12s 76us/step - loss: 0.2385 - binary_accuracy: 0.9122\n",
            "Epoch 20/100\n",
            "160000/160000 [==============================] - 12s 76us/step - loss: 0.2384 - binary_accuracy: 0.9123\n",
            "Epoch 21/100\n",
            "160000/160000 [==============================] - 12s 75us/step - loss: 0.2378 - binary_accuracy: 0.9125\n",
            "Epoch 22/100\n",
            "160000/160000 [==============================] - 12s 76us/step - loss: 0.2378 - binary_accuracy: 0.9125\n",
            "Epoch 23/100\n",
            "160000/160000 [==============================] - 12s 76us/step - loss: 0.2375 - binary_accuracy: 0.9127\n",
            "Epoch 24/100\n",
            "160000/160000 [==============================] - 12s 76us/step - loss: 0.2372 - binary_accuracy: 0.9127\n",
            "Epoch 25/100\n",
            "160000/160000 [==============================] - 12s 76us/step - loss: 0.2373 - binary_accuracy: 0.9128\n",
            "Epoch 26/100\n",
            "160000/160000 [==============================] - 13s 79us/step - loss: 0.2371 - binary_accuracy: 0.9130\n",
            "Epoch 27/100\n",
            "160000/160000 [==============================] - 13s 78us/step - loss: 0.2368 - binary_accuracy: 0.9133\n",
            "Epoch 28/100\n",
            "160000/160000 [==============================] - 12s 78us/step - loss: 0.2370 - binary_accuracy: 0.9129\n",
            "Epoch 29/100\n",
            "160000/160000 [==============================] - 13s 80us/step - loss: 0.2368 - binary_accuracy: 0.9127\n",
            "Epoch 30/100\n",
            "160000/160000 [==============================] - 13s 80us/step - loss: 0.2362 - binary_accuracy: 0.9131\n",
            "Epoch 31/100\n",
            "160000/160000 [==============================] - 13s 79us/step - loss: 0.2361 - binary_accuracy: 0.9132\n",
            "Epoch 32/100\n",
            "160000/160000 [==============================] - 13s 79us/step - loss: 0.2363 - binary_accuracy: 0.9132\n",
            "Epoch 33/100\n",
            "160000/160000 [==============================] - 13s 79us/step - loss: 0.2362 - binary_accuracy: 0.9130\n",
            "Epoch 34/100\n",
            "160000/160000 [==============================] - 12s 76us/step - loss: 0.2357 - binary_accuracy: 0.9134\n",
            "Epoch 35/100\n",
            "160000/160000 [==============================] - 12s 77us/step - loss: 0.2358 - binary_accuracy: 0.9132\n",
            "Epoch 36/100\n",
            "160000/160000 [==============================] - 12s 77us/step - loss: 0.2358 - binary_accuracy: 0.9135\n",
            "Epoch 37/100\n",
            "160000/160000 [==============================] - 13s 78us/step - loss: 0.2356 - binary_accuracy: 0.9133\n",
            "Epoch 38/100\n",
            "160000/160000 [==============================] - 12s 77us/step - loss: 0.2354 - binary_accuracy: 0.9134\n",
            "Epoch 39/100\n",
            "160000/160000 [==============================] - 12s 76us/step - loss: 0.2356 - binary_accuracy: 0.9132\n",
            "Epoch 40/100\n",
            "160000/160000 [==============================] - 13s 81us/step - loss: 0.2352 - binary_accuracy: 0.9137\n",
            "Epoch 41/100\n",
            "160000/160000 [==============================] - 13s 79us/step - loss: 0.2352 - binary_accuracy: 0.9134\n",
            "Epoch 42/100\n",
            "160000/160000 [==============================] - 13s 79us/step - loss: 0.2351 - binary_accuracy: 0.9133\n",
            "Epoch 43/100\n",
            "160000/160000 [==============================] - 12s 77us/step - loss: 0.2349 - binary_accuracy: 0.9138\n",
            "Epoch 44/100\n",
            "160000/160000 [==============================] - 12s 77us/step - loss: 0.2352 - binary_accuracy: 0.9137\n",
            "Epoch 45/100\n",
            "160000/160000 [==============================] - 12s 76us/step - loss: 0.2348 - binary_accuracy: 0.9137\n",
            "Epoch 46/100\n",
            "160000/160000 [==============================] - 12s 77us/step - loss: 0.2350 - binary_accuracy: 0.9134\n",
            "Epoch 47/100\n",
            "160000/160000 [==============================] - 12s 75us/step - loss: 0.2347 - binary_accuracy: 0.9135\n",
            "Epoch 48/100\n",
            "160000/160000 [==============================] - 12s 76us/step - loss: 0.2344 - binary_accuracy: 0.9139\n",
            "Epoch 49/100\n",
            "160000/160000 [==============================] - 12s 77us/step - loss: 0.2345 - binary_accuracy: 0.9138\n",
            "Epoch 50/100\n",
            "160000/160000 [==============================] - 12s 75us/step - loss: 0.2346 - binary_accuracy: 0.9140\n",
            "Epoch 51/100\n",
            "160000/160000 [==============================] - 12s 77us/step - loss: 0.2343 - binary_accuracy: 0.9135\n",
            "Epoch 52/100\n",
            "160000/160000 [==============================] - 12s 78us/step - loss: 0.2345 - binary_accuracy: 0.9139\n",
            "Epoch 53/100\n",
            "160000/160000 [==============================] - 13s 79us/step - loss: 0.2343 - binary_accuracy: 0.9138\n",
            "Epoch 54/100\n",
            "160000/160000 [==============================] - 12s 78us/step - loss: 0.2342 - binary_accuracy: 0.9136\n",
            "Epoch 55/100\n",
            "160000/160000 [==============================] - 13s 78us/step - loss: 0.2341 - binary_accuracy: 0.9137\n",
            "Epoch 56/100\n",
            "160000/160000 [==============================] - 12s 76us/step - loss: 0.2340 - binary_accuracy: 0.9139\n",
            "Epoch 57/100\n",
            "160000/160000 [==============================] - 12s 76us/step - loss: 0.2341 - binary_accuracy: 0.9136\n",
            "Epoch 58/100\n",
            "160000/160000 [==============================] - 12s 76us/step - loss: 0.2339 - binary_accuracy: 0.9137\n",
            "Epoch 59/100\n",
            "160000/160000 [==============================] - 12s 76us/step - loss: 0.2339 - binary_accuracy: 0.9140\n",
            "Epoch 60/100\n",
            "160000/160000 [==============================] - 12s 76us/step - loss: 0.2340 - binary_accuracy: 0.9138\n",
            "Epoch 61/100\n",
            "160000/160000 [==============================] - 12s 77us/step - loss: 0.2337 - binary_accuracy: 0.9139\n",
            "Epoch 62/100\n",
            "160000/160000 [==============================] - 12s 75us/step - loss: 0.2334 - binary_accuracy: 0.9142\n",
            "Epoch 63/100\n",
            "160000/160000 [==============================] - 12s 77us/step - loss: 0.2333 - binary_accuracy: 0.9140\n",
            "Epoch 64/100\n",
            "160000/160000 [==============================] - 12s 75us/step - loss: 0.2335 - binary_accuracy: 0.9145\n",
            "Epoch 65/100\n",
            "160000/160000 [==============================] - 12s 77us/step - loss: 0.2337 - binary_accuracy: 0.9140\n",
            "Epoch 66/100\n",
            "160000/160000 [==============================] - 13s 83us/step - loss: 0.2336 - binary_accuracy: 0.9141\n",
            "Epoch 67/100\n",
            "160000/160000 [==============================] - 13s 78us/step - loss: 0.2332 - binary_accuracy: 0.9139\n",
            "Epoch 68/100\n",
            "160000/160000 [==============================] - 12s 74us/step - loss: 0.2333 - binary_accuracy: 0.9144\n",
            "Epoch 69/100\n",
            "160000/160000 [==============================] - 12s 77us/step - loss: 0.2331 - binary_accuracy: 0.9142\n",
            "Epoch 70/100\n",
            "160000/160000 [==============================] - 12s 74us/step - loss: 0.2329 - binary_accuracy: 0.9140\n",
            "Epoch 71/100\n",
            "160000/160000 [==============================] - 12s 75us/step - loss: 0.2335 - binary_accuracy: 0.9140\n",
            "Epoch 72/100\n",
            "160000/160000 [==============================] - 12s 74us/step - loss: 0.2329 - binary_accuracy: 0.9144\n",
            "Epoch 73/100\n",
            "160000/160000 [==============================] - 12s 76us/step - loss: 0.2330 - binary_accuracy: 0.9143\n",
            "Epoch 74/100\n",
            "160000/160000 [==============================] - 12s 76us/step - loss: 0.2331 - binary_accuracy: 0.9140\n",
            "Epoch 75/100\n",
            "160000/160000 [==============================] - 12s 77us/step - loss: 0.2329 - binary_accuracy: 0.9143\n",
            "Epoch 76/100\n",
            "160000/160000 [==============================] - 12s 76us/step - loss: 0.2330 - binary_accuracy: 0.9142\n",
            "Epoch 77/100\n",
            "160000/160000 [==============================] - 12s 76us/step - loss: 0.2330 - binary_accuracy: 0.9142\n",
            "Epoch 78/100\n",
            "160000/160000 [==============================] - 12s 76us/step - loss: 0.2331 - binary_accuracy: 0.9145\n",
            "Epoch 79/100\n",
            "160000/160000 [==============================] - 12s 74us/step - loss: 0.2329 - binary_accuracy: 0.9147\n",
            "Epoch 80/100\n",
            "160000/160000 [==============================] - 12s 75us/step - loss: 0.2326 - binary_accuracy: 0.9146\n",
            "Epoch 81/100\n",
            "160000/160000 [==============================] - 12s 76us/step - loss: 0.2325 - binary_accuracy: 0.9146\n",
            "Epoch 82/100\n",
            "160000/160000 [==============================] - 12s 76us/step - loss: 0.2330 - binary_accuracy: 0.9142\n",
            "Epoch 83/100\n",
            "160000/160000 [==============================] - 12s 75us/step - loss: 0.2326 - binary_accuracy: 0.9146\n",
            "Epoch 84/100\n",
            "160000/160000 [==============================] - 12s 76us/step - loss: 0.2327 - binary_accuracy: 0.9146\n",
            "Epoch 85/100\n",
            "160000/160000 [==============================] - 12s 75us/step - loss: 0.2326 - binary_accuracy: 0.9145\n",
            "Epoch 86/100\n",
            "160000/160000 [==============================] - 12s 75us/step - loss: 0.2323 - binary_accuracy: 0.9144\n",
            "Epoch 87/100\n",
            "160000/160000 [==============================] - 12s 75us/step - loss: 0.2324 - binary_accuracy: 0.9149\n",
            "Epoch 88/100\n",
            "160000/160000 [==============================] - 12s 75us/step - loss: 0.2329 - binary_accuracy: 0.9143\n",
            "Epoch 89/100\n",
            "160000/160000 [==============================] - 12s 74us/step - loss: 0.2323 - binary_accuracy: 0.9144\n",
            "Epoch 90/100\n",
            "160000/160000 [==============================] - 12s 75us/step - loss: 0.2324 - binary_accuracy: 0.9149\n",
            "Epoch 91/100\n",
            "160000/160000 [==============================] - 13s 80us/step - loss: 0.2328 - binary_accuracy: 0.9147\n",
            "Epoch 92/100\n",
            "160000/160000 [==============================] - 13s 79us/step - loss: 0.2325 - binary_accuracy: 0.9143\n",
            "Epoch 93/100\n",
            "160000/160000 [==============================] - 12s 74us/step - loss: 0.2324 - binary_accuracy: 0.9147\n",
            "Epoch 94/100\n",
            "160000/160000 [==============================] - 12s 74us/step - loss: 0.2320 - binary_accuracy: 0.9149\n",
            "Epoch 95/100\n",
            "160000/160000 [==============================] - 12s 75us/step - loss: 0.2323 - binary_accuracy: 0.9145\n",
            "Epoch 96/100\n",
            "160000/160000 [==============================] - 12s 75us/step - loss: 0.2321 - binary_accuracy: 0.9146\n",
            "Epoch 97/100\n",
            "160000/160000 [==============================] - 12s 74us/step - loss: 0.2320 - binary_accuracy: 0.9145\n",
            "Epoch 98/100\n",
            "160000/160000 [==============================] - 12s 76us/step - loss: 0.2321 - binary_accuracy: 0.9148\n",
            "Epoch 99/100\n",
            "160000/160000 [==============================] - 12s 75us/step - loss: 0.2322 - binary_accuracy: 0.9146\n",
            "Epoch 100/100\n",
            "160000/160000 [==============================] - 12s 75us/step - loss: 0.2321 - binary_accuracy: 0.9144\n"
          ],
          "name": "stdout"
        },
        {
          "output_type": "execute_result",
          "data": {
            "text/plain": [
              "<keras.callbacks.History at 0x7fa2eba70fd0>"
            ]
          },
          "metadata": {
            "tags": []
          },
          "execution_count": 49
        }
      ]
    },
    {
      "metadata": {
        "id": "rhkViWmFj-i_",
        "colab_type": "code",
        "colab": {
          "base_uri": "https://localhost:8080/",
          "height": 34
        },
        "outputId": "db69020e-4df2-47eb-fda6-3184b0f006a3"
      },
      "cell_type": "code",
      "source": [
        "y_pred=model.predict_proba(X_test,verbose=1)"
      ],
      "execution_count": 50,
      "outputs": [
        {
          "output_type": "stream",
          "text": [
            "40000/40000 [==============================] - 1s 35us/step\n"
          ],
          "name": "stdout"
        }
      ]
    },
    {
      "metadata": {
        "id": "VlFhupvYj-_K",
        "colab_type": "code",
        "colab": {
          "base_uri": "https://localhost:8080/",
          "height": 34
        },
        "outputId": "508c3bf2-32ae-4708-b570-423e1dac5a7a"
      },
      "cell_type": "code",
      "source": [
        "fpr, tpr, thresholds = metrics.roc_curve(y_test, y_pred, pos_label=None)\n",
        "metrics.auc(fpr,tpr)"
      ],
      "execution_count": 51,
      "outputs": [
        {
          "output_type": "execute_result",
          "data": {
            "text/plain": [
              "0.8522094855066302"
            ]
          },
          "metadata": {
            "tags": []
          },
          "execution_count": 51
        }
      ]
    },
    {
      "metadata": {
        "id": "5mnrZnnVT836",
        "colab_type": "code",
        "colab": {
          "base_uri": "https://localhost:8080/",
          "height": 739
        },
        "outputId": "537a4118-8d12-459a-b578-8a4c1d43f94f"
      },
      "cell_type": "code",
      "source": [
        "# evaluate model with standardized dataset\n",
        "estimator = KerasClassifier(build_fn=create_baseline, epochs=10, batch_size=5, verbose=1)\n",
        "kfold = StratifiedKFold(n_splits=2, shuffle=True, random_state=40)\n",
        "results = cross_val_score(estimator, X, y, cv=kfold)\n",
        "print(\"Results: %.2f%% (%.2f%%)\" % (results.mean()*100, results.std()*100))"
      ],
      "execution_count": 21,
      "outputs": [
        {
          "output_type": "stream",
          "text": [
            "Epoch 1/10\n",
            "100000/100000 [==============================] - 23s 234us/step - loss: 0.2715 - acc: 0.9030\n",
            "Epoch 2/10\n",
            "100000/100000 [==============================] - 23s 231us/step - loss: 0.2574 - acc: 0.9075\n",
            "Epoch 3/10\n",
            "100000/100000 [==============================] - 23s 230us/step - loss: 0.2528 - acc: 0.9084\n",
            "Epoch 4/10\n",
            "100000/100000 [==============================] - 23s 232us/step - loss: 0.2511 - acc: 0.9089\n",
            "Epoch 5/10\n",
            "100000/100000 [==============================] - 23s 231us/step - loss: 0.2494 - acc: 0.9097\n",
            "Epoch 6/10\n",
            "100000/100000 [==============================] - 23s 229us/step - loss: 0.2492 - acc: 0.9096\n",
            "Epoch 7/10\n",
            "100000/100000 [==============================] - 23s 232us/step - loss: 0.2479 - acc: 0.9096\n",
            "Epoch 8/10\n",
            "100000/100000 [==============================] - 23s 231us/step - loss: 0.2470 - acc: 0.9097\n",
            "Epoch 9/10\n",
            "100000/100000 [==============================] - 24s 242us/step - loss: 0.2469 - acc: 0.9099\n",
            "Epoch 10/10\n",
            "100000/100000 [==============================] - 23s 229us/step - loss: 0.2460 - acc: 0.9099\n",
            "100000/100000 [==============================] - 10s 102us/step\n",
            "Epoch 1/10\n",
            "100000/100000 [==============================] - 24s 237us/step - loss: 0.2713 - acc: 0.9036\n",
            "Epoch 2/10\n",
            "100000/100000 [==============================] - 23s 233us/step - loss: 0.2563 - acc: 0.9076\n",
            "Epoch 3/10\n",
            "100000/100000 [==============================] - 24s 239us/step - loss: 0.2526 - acc: 0.9085\n",
            "Epoch 4/10\n",
            "100000/100000 [==============================] - 23s 232us/step - loss: 0.2508 - acc: 0.9094\n",
            "Epoch 5/10\n",
            "100000/100000 [==============================] - 23s 233us/step - loss: 0.2486 - acc: 0.9091\n",
            "Epoch 6/10\n",
            "100000/100000 [==============================] - 23s 234us/step - loss: 0.2476 - acc: 0.9097\n",
            "Epoch 7/10\n",
            "100000/100000 [==============================] - 23s 232us/step - loss: 0.2473 - acc: 0.9101\n",
            "Epoch 8/10\n",
            "100000/100000 [==============================] - 23s 234us/step - loss: 0.2464 - acc: 0.9101\n",
            "Epoch 9/10\n",
            "100000/100000 [==============================] - 23s 232us/step - loss: 0.2463 - acc: 0.9103\n",
            "Epoch 10/10\n",
            "100000/100000 [==============================] - 23s 230us/step - loss: 0.2457 - acc: 0.9108\n",
            "100000/100000 [==============================] - 11s 112us/step\n",
            "Results: 91.16% (0.01%)\n"
          ],
          "name": "stdout"
        }
      ]
    },
    {
      "metadata": {
        "id": "IWXubDwiWa6k",
        "colab_type": "code",
        "colab": {
          "base_uri": "https://localhost:8080/",
          "height": 296
        },
        "outputId": "507938b8-a6d9-4b95-f7f7-245c92a0cdd8"
      },
      "cell_type": "code",
      "source": [
        "\n"
      ],
      "execution_count": 23,
      "outputs": [
        {
          "output_type": "error",
          "ename": "AttributeError",
          "evalue": "ignored",
          "traceback": [
            "\u001b[0;31m---------------------------------------------------------------------------\u001b[0m",
            "\u001b[0;31mAttributeError\u001b[0m                            Traceback (most recent call last)",
            "\u001b[0;32m<ipython-input-23-be57d685b7f1>\u001b[0m in \u001b[0;36m<module>\u001b[0;34m()\u001b[0m\n\u001b[0;32m----> 1\u001b[0;31m \u001b[0mprediction\u001b[0m\u001b[0;34m=\u001b[0m\u001b[0mestimator\u001b[0m\u001b[0;34m.\u001b[0m\u001b[0mpredict_proba\u001b[0m\u001b[0;34m(\u001b[0m\u001b[0mcustomers_w\u001b[0m\u001b[0;34m,\u001b[0m \u001b[0mbatch_size\u001b[0m\u001b[0;34m=\u001b[0m\u001b[0;36m5\u001b[0m\u001b[0;34m,\u001b[0m \u001b[0mverbose\u001b[0m\u001b[0;34m=\u001b[0m\u001b[0;36m1\u001b[0m\u001b[0;34m)\u001b[0m\u001b[0;34m\u001b[0m\u001b[0;34m\u001b[0m\u001b[0m\n\u001b[0m\u001b[1;32m      2\u001b[0m \u001b[0my_test_pred_log\u001b[0m\u001b[0;34m+=\u001b[0m \u001b[0mnp\u001b[0m\u001b[0;34m.\u001b[0m\u001b[0msqueeze\u001b[0m\u001b[0;34m(\u001b[0m\u001b[0mprediction\u001b[0m\u001b[0;34m[\u001b[0m\u001b[0;34m:\u001b[0m\u001b[0;34m,\u001b[0m\u001b[0;36m1\u001b[0m\u001b[0;34m]\u001b[0m\u001b[0;34m)\u001b[0m\u001b[0;34m\u001b[0m\u001b[0;34m\u001b[0m\u001b[0m\n",
            "\u001b[0;32m/usr/local/lib/python3.6/dist-packages/keras/wrappers/scikit_learn.py\u001b[0m in \u001b[0;36mpredict_proba\u001b[0;34m(self, x, **kwargs)\u001b[0m\n\u001b[1;32m    254\u001b[0m         \"\"\"\n\u001b[1;32m    255\u001b[0m         \u001b[0mkwargs\u001b[0m \u001b[0;34m=\u001b[0m \u001b[0mself\u001b[0m\u001b[0;34m.\u001b[0m\u001b[0mfilter_sk_params\u001b[0m\u001b[0;34m(\u001b[0m\u001b[0mSequential\u001b[0m\u001b[0;34m.\u001b[0m\u001b[0mpredict_proba\u001b[0m\u001b[0;34m,\u001b[0m \u001b[0mkwargs\u001b[0m\u001b[0;34m)\u001b[0m\u001b[0;34m\u001b[0m\u001b[0;34m\u001b[0m\u001b[0m\n\u001b[0;32m--> 256\u001b[0;31m         \u001b[0mprobs\u001b[0m \u001b[0;34m=\u001b[0m \u001b[0mself\u001b[0m\u001b[0;34m.\u001b[0m\u001b[0mmodel\u001b[0m\u001b[0;34m.\u001b[0m\u001b[0mpredict\u001b[0m\u001b[0;34m(\u001b[0m\u001b[0mx\u001b[0m\u001b[0;34m,\u001b[0m \u001b[0;34m**\u001b[0m\u001b[0mkwargs\u001b[0m\u001b[0;34m)\u001b[0m\u001b[0;34m\u001b[0m\u001b[0;34m\u001b[0m\u001b[0m\n\u001b[0m\u001b[1;32m    257\u001b[0m \u001b[0;34m\u001b[0m\u001b[0m\n\u001b[1;32m    258\u001b[0m         \u001b[0;31m# check if binary classification\u001b[0m\u001b[0;34m\u001b[0m\u001b[0;34m\u001b[0m\u001b[0;34m\u001b[0m\u001b[0m\n",
            "\u001b[0;31mAttributeError\u001b[0m: 'KerasClassifier' object has no attribute 'model'"
          ]
        }
      ]
    },
    {
      "metadata": {
        "id": "6Q_97GLhcDP6",
        "colab_type": "code",
        "colab": {
          "base_uri": "https://localhost:8080/",
          "height": 756
        },
        "outputId": "b02f1d28-2074-4abf-ebfb-30d8f8272ff3"
      },
      "cell_type": "code",
      "source": [
        ""
      ],
      "execution_count": 27,
      "outputs": [
        {
          "output_type": "stream",
          "text": [
            "[Parallel(n_jobs=1)]: Using backend SequentialBackend with 1 concurrent workers.\n"
          ],
          "name": "stderr"
        },
        {
          "output_type": "stream",
          "text": [
            "Epoch 1/10\n",
            "100000/100000 [==============================] - 24s 236us/step - loss: 0.3329 - acc: 0.8992\n",
            "Epoch 2/10\n",
            "100000/100000 [==============================] - 23s 230us/step - loss: 0.3302 - acc: 0.8992\n",
            "Epoch 3/10\n",
            "100000/100000 [==============================] - 23s 232us/step - loss: 0.3301 - acc: 0.8992\n",
            "Epoch 4/10\n",
            "100000/100000 [==============================] - 23s 232us/step - loss: 0.3292 - acc: 0.8992\n",
            "Epoch 5/10\n",
            "100000/100000 [==============================] - 23s 228us/step - loss: 0.3279 - acc: 0.8992\n",
            "Epoch 6/10\n",
            "100000/100000 [==============================] - 23s 230us/step - loss: 0.3269 - acc: 0.8992\n",
            "Epoch 7/10\n",
            "100000/100000 [==============================] - 23s 232us/step - loss: 0.3269 - acc: 0.8992\n",
            "Epoch 8/10\n",
            "100000/100000 [==============================] - 24s 243us/step - loss: 0.3269 - acc: 0.8992\n",
            "Epoch 9/10\n",
            "100000/100000 [==============================] - 23s 229us/step - loss: 0.3269 - acc: 0.8992\n",
            "Epoch 10/10\n",
            "100000/100000 [==============================] - 23s 229us/step - loss: 0.3269 - acc: 0.8992\n",
            "100000/100000 [==============================] - 8s 79us/step\n",
            "Epoch 1/10\n",
            "100000/100000 [==============================] - 24s 242us/step - loss: 0.3308 - acc: 0.8997\n",
            "Epoch 2/10\n",
            "100000/100000 [==============================] - 23s 234us/step - loss: 0.3293 - acc: 0.8999\n",
            "Epoch 3/10\n",
            "100000/100000 [==============================] - 23s 234us/step - loss: 0.3288 - acc: 0.8999\n",
            "Epoch 4/10\n",
            "100000/100000 [==============================] - 23s 234us/step - loss: 0.3280 - acc: 0.8999\n",
            "Epoch 5/10\n",
            "100000/100000 [==============================] - 23s 234us/step - loss: 0.3266 - acc: 0.8999\n",
            "Epoch 6/10\n",
            "100000/100000 [==============================] - 24s 237us/step - loss: 0.3255 - acc: 0.8999\n",
            "Epoch 7/10\n",
            "100000/100000 [==============================] - 24s 236us/step - loss: 0.3255 - acc: 0.8999\n",
            "Epoch 8/10\n",
            "100000/100000 [==============================] - 24s 236us/step - loss: 0.3255 - acc: 0.8999\n",
            "Epoch 9/10\n",
            "100000/100000 [==============================] - 24s 235us/step - loss: 0.3254 - acc: 0.8999\n",
            "Epoch 10/10\n",
            "100000/100000 [==============================] - 24s 240us/step - loss: 0.3254 - acc: 0.8999\n",
            "100000/100000 [==============================] - 10s 96us/step\n"
          ],
          "name": "stdout"
        },
        {
          "output_type": "stream",
          "text": [
            "[Parallel(n_jobs=1)]: Done   2 out of   2 | elapsed:  8.1min finished\n"
          ],
          "name": "stderr"
        }
      ]
    },
    {
      "metadata": {
        "id": "Lw-P1P-rf48W",
        "colab_type": "code",
        "colab": {
          "base_uri": "https://localhost:8080/",
          "height": 34
        },
        "outputId": "1e03825a-6677-44af-b2d2-e2e52f03b717"
      },
      "cell_type": "code",
      "source": [
        "y_pred.mean()\n"
      ],
      "execution_count": 31,
      "outputs": [
        {
          "output_type": "execute_result",
          "data": {
            "text/plain": [
              "0.0"
            ]
          },
          "metadata": {
            "tags": []
          },
          "execution_count": 31
        }
      ]
    },
    {
      "metadata": {
        "id": "BfK7ZS6sihUz",
        "colab_type": "code",
        "colab": {}
      },
      "cell_type": "code",
      "source": [
        "submission=pd.DataFrame({\"ID_code\": test_data.ID_code.values})\n",
        "submission[\"target\"]=y_pred\n",
        "submission.to_csv(\"submission_13.csv\", index=False)"
      ],
      "execution_count": 0,
      "outputs": []
    },
    {
      "metadata": {
        "id": "bS6gtL6ulc5A",
        "colab_type": "code",
        "colab": {}
      },
      "cell_type": "code",
      "source": [
        ""
      ],
      "execution_count": 0,
      "outputs": []
    }
  ]
}