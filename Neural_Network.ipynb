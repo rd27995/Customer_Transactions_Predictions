{
  "nbformat": 4,
  "nbformat_minor": 0,
  "metadata": {
    "colab": {
      "name": "Copy of Customer_Pred.ipynb",
      "version": "0.3.2",
      "provenance": [],
      "include_colab_link": true
    },
    "kernelspec": {
      "display_name": "Python 3",
      "language": "python",
      "name": "python3"
    }
  },
  "cells": [
    {
      "cell_type": "markdown",
      "metadata": {
        "id": "view-in-github",
        "colab_type": "text"
      },
      "source": [
        "<a href=\"https://colab.research.google.com/github/rd27995/Kaggle_Competition/blob/master/Neural_Network.ipynb\" target=\"_parent\"><img src=\"https://colab.research.google.com/assets/colab-badge.svg\" alt=\"Open In Colab\"/></a>"
      ]
    },
    {
      "metadata": {
        "colab_type": "code",
        "id": "tRqJ2zdIPLcW",
        "colab": {}
      },
      "cell_type": "code",
      "source": [
        "#Import the essentials\n",
        "import keras\n",
        "import numpy as np\n",
        "import pandas as pd\n",
        "from keras.models import Sequential\n",
        "from keras.layers import Dense\n",
        "from keras.wrappers.scikit_learn import KerasClassifier\n",
        "from sklearn.model_selection import cross_val_score, cross_val_predict\n",
        "from sklearn.preprocessing import LabelEncoder\n",
        "from sklearn.model_selection import StratifiedKFold\n",
        "from sklearn.preprocessing import StandardScaler\n",
        "from sklearn.pipeline import Pipeline\n",
        "from sklearn import metrics\n",
        "from sklearn.model_selection import train_test_split\n",
        "from keras import optimizers"
      ],
      "execution_count": 0,
      "outputs": []
    },
    {
      "metadata": {
        "id": "XzzJVOcKCajd",
        "colab_type": "code",
        "colab": {}
      },
      "cell_type": "code",
      "source": [
        "##Read the data\n",
        "train_data = pd.read_csv('train.csv')\n",
        "test_data=pd.read_csv('test.csv')"
      ],
      "execution_count": 0,
      "outputs": []
    },
    {
      "metadata": {
        "id": "MOjlJRI9Caji",
        "colab_type": "code",
        "outputId": "22f295a5-7f83-4de9-cddb-f78ec7f8f93d",
        "colab": {
          "base_uri": "https://localhost:8080/",
          "height": 34
        }
      },
      "cell_type": "code",
      "source": [
        "## Get the shape\n",
        "test_data.shape"
      ],
      "execution_count": 4,
      "outputs": [
        {
          "output_type": "execute_result",
          "data": {
            "text/plain": [
              "(200000, 201)"
            ]
          },
          "metadata": {
            "tags": []
          },
          "execution_count": 4
        }
      ]
    },
    {
      "metadata": {
        "id": "lN5NgcnJCakV",
        "colab_type": "code",
        "colab": {}
      },
      "cell_type": "code",
      "source": [
        "train_data = train_data.loc[:, train_data.columns != 'ID_code']\n",
        "customer = test_data.loc[:, test_data.columns != 'ID_code']"
      ],
      "execution_count": 0,
      "outputs": []
    },
    {
      "metadata": {
        "id": "_9byP0GzCakb",
        "colab_type": "code",
        "colab": {}
      },
      "cell_type": "code",
      "source": [
        "X = train_data.loc[:, train_data.columns != 'target']\n",
        "y = train_data.iloc[:,0]"
      ],
      "execution_count": 0,
      "outputs": []
    },
    {
      "metadata": {
        "id": "zyq7wbSKCak_",
        "colab_type": "code",
        "colab": {}
      },
      "cell_type": "code",
      "source": [
        "X_train, X_test, y_train, y_test = train_test_split(X, y, test_size = 0.20,random_state=123)"
      ],
      "execution_count": 0,
      "outputs": []
    },
    {
      "metadata": {
        "id": "gXKcLmJ-WSvi",
        "colab_type": "code",
        "colab": {}
      },
      "cell_type": "code",
      "source": [
        "#@title This is for normalizing the data\n",
        "\n"
      ],
      "execution_count": 0,
      "outputs": []
    },
    {
      "metadata": {
        "id": "t8B91GPZCapI",
        "colab_type": "code",
        "colab": {}
      },
      "cell_type": "code",
      "source": [
        "sc = StandardScaler()\n",
        "X_train1 = sc.fit_transform(X_train)\n",
        "X_test1 = sc.transform(X_test)"
      ],
      "execution_count": 0,
      "outputs": []
    },
    {
      "metadata": {
        "id": "bHPDs9G0fWpK",
        "colab_type": "text"
      },
      "cell_type": "markdown",
      "source": [
        "\n",
        "\n",
        "**> LightGBM Model**\n",
        "\n",
        "\n"
      ]
    },
    {
      "metadata": {
        "id": "iz2tT1-gv1--",
        "colab_type": "code",
        "colab": {}
      },
      "cell_type": "code",
      "source": [
        "import lightgbm as lgb"
      ],
      "execution_count": 0,
      "outputs": []
    },
    {
      "metadata": {
        "id": "Y6QSvUZlv9pb",
        "colab_type": "code",
        "colab": {}
      },
      "cell_type": "code",
      "source": [
        "d_train = lgb.Dataset(X_train1,y_train)"
      ],
      "execution_count": 0,
      "outputs": []
    },
    {
      "metadata": {
        "id": "uI5QngVwWmQe",
        "colab_type": "text"
      },
      "cell_type": "markdown",
      "source": [
        ""
      ]
    },
    {
      "metadata": {
        "id": "_DsQQzcH8r5t",
        "colab_type": "code",
        "colab": {}
      },
      "cell_type": "code",
      "source": [
        "## Best Iteration"
      ],
      "execution_count": 0,
      "outputs": []
    },
    {
      "metadata": {
        "id": "GUJfmjsIwhvy",
        "colab_type": "code",
        "colab": {}
      },
      "cell_type": "code",
      "source": [
        "params = {}\n",
        "params['learning_rate'] = 0.01\n",
        "params['boosting_type'] = 'gbdt'\n",
        "params['objective'] = 'binary'\n",
        "params['metric'] = 'binary_error'\n",
        "params['n_thread'] = 3\n",
        "params['num_leaves'] = 32\n",
        "params['subsample_for_bin'] = 200\n",
        "params['bagging_fraction'] = 0.75\n",
        "params['bagging_freq'] = 1\n",
        "params['colsample_bytree'] = 0.8\n",
        "params['reg_alpha'] = 3\n",
        "params['reg_lambda'] = 6\n",
        "params['min_split_gain'] = 0.5\n",
        "params['min_child_weight'] = 1\n",
        "params['min_child_samples'] = 5\n",
        "params['scale_pause_weight'] = 1\n",
        "params['num_class'] =1\n",
        "params['max_depth'] = 9\n",
        "params['min_data_in_leaf']=1875\n",
        "#clf = lgb.train(params, d_train, 2000)"
      ],
      "execution_count": 0,
      "outputs": []
    },
    {
      "metadata": {
        "id": "iXOeqd2e07o2",
        "colab_type": "code",
        "colab": {}
      },
      "cell_type": "code",
      "source": [
        "#Prediction\n",
        "y_pred=clf.predict(X_test1,num_iteration = clf.best_iteration)\n"
      ],
      "execution_count": 0,
      "outputs": []
    },
    {
      "metadata": {
        "id": "C0uFVn_Y1fBW",
        "colab_type": "code",
        "outputId": "cc7dc82a-3ae3-43ee-a1f1-53a4f36032ef",
        "colab": {
          "base_uri": "https://localhost:8080/",
          "height": 34
        }
      },
      "cell_type": "code",
      "source": [
        "fpr, tpr, thresholds = metrics.roc_curve(y_test, y_pred, pos_label=None)\n",
        "metrics.auc(fpr,tpr)"
      ],
      "execution_count": 0,
      "outputs": [
        {
          "output_type": "execute_result",
          "data": {
            "text/plain": [
              "0.8877499522451267"
            ]
          },
          "metadata": {
            "tags": []
          },
          "execution_count": 79
        }
      ]
    },
    {
      "metadata": {
        "id": "v2rqvAu1HKBu",
        "colab_type": "code",
        "colab": {}
      },
      "cell_type": "code",
      "source": [
        "#convert into binary values\n",
        "for i in range(0,len(customers_w)):\n",
        "    if y_pred[i]>=0.1:   \n",
        "       y_pred[i]=1\n",
        "       \n",
        "    else:  \n",
        "       y_pred[i]=0"
      ],
      "execution_count": 0,
      "outputs": []
    },
    {
      "metadata": {
        "id": "nViQHQjMLAOC",
        "colab_type": "code",
        "colab": {}
      },
      "cell_type": "code",
      "source": [
        "customers_w = customers.loc[:, customers.columns != 'ID_code']"
      ],
      "execution_count": 0,
      "outputs": []
    },
    {
      "metadata": {
        "id": "r844Lg4nLNjA",
        "colab_type": "code",
        "outputId": "3e559915-6e19-4050-8b02-e7758bd24c6f",
        "colab": {
          "base_uri": "https://localhost:8080/",
          "height": 253
        }
      },
      "cell_type": "code",
      "source": [
        "customers_w.head()"
      ],
      "execution_count": 0,
      "outputs": [
        {
          "output_type": "execute_result",
          "data": {
            "text/html": [
              "<div>\n",
              "<style scoped>\n",
              "    .dataframe tbody tr th:only-of-type {\n",
              "        vertical-align: middle;\n",
              "    }\n",
              "\n",
              "    .dataframe tbody tr th {\n",
              "        vertical-align: top;\n",
              "    }\n",
              "\n",
              "    .dataframe thead th {\n",
              "        text-align: right;\n",
              "    }\n",
              "</style>\n",
              "<table border=\"1\" class=\"dataframe\">\n",
              "  <thead>\n",
              "    <tr style=\"text-align: right;\">\n",
              "      <th></th>\n",
              "      <th>var_0</th>\n",
              "      <th>var_1</th>\n",
              "      <th>var_2</th>\n",
              "      <th>var_3</th>\n",
              "      <th>var_4</th>\n",
              "      <th>var_5</th>\n",
              "      <th>var_6</th>\n",
              "      <th>var_7</th>\n",
              "      <th>var_8</th>\n",
              "      <th>var_9</th>\n",
              "      <th>...</th>\n",
              "      <th>var_190</th>\n",
              "      <th>var_191</th>\n",
              "      <th>var_192</th>\n",
              "      <th>var_193</th>\n",
              "      <th>var_194</th>\n",
              "      <th>var_195</th>\n",
              "      <th>var_196</th>\n",
              "      <th>var_197</th>\n",
              "      <th>var_198</th>\n",
              "      <th>var_199</th>\n",
              "    </tr>\n",
              "  </thead>\n",
              "  <tbody>\n",
              "    <tr>\n",
              "      <th>0</th>\n",
              "      <td>11.0656</td>\n",
              "      <td>7.7798</td>\n",
              "      <td>12.9536</td>\n",
              "      <td>9.4292</td>\n",
              "      <td>11.4327</td>\n",
              "      <td>-2.3805</td>\n",
              "      <td>5.8493</td>\n",
              "      <td>18.2675</td>\n",
              "      <td>2.1337</td>\n",
              "      <td>8.8100</td>\n",
              "      <td>...</td>\n",
              "      <td>-2.1556</td>\n",
              "      <td>11.8495</td>\n",
              "      <td>-1.4300</td>\n",
              "      <td>2.4508</td>\n",
              "      <td>13.7112</td>\n",
              "      <td>2.4669</td>\n",
              "      <td>4.3654</td>\n",
              "      <td>10.7200</td>\n",
              "      <td>15.4722</td>\n",
              "      <td>-8.7197</td>\n",
              "    </tr>\n",
              "    <tr>\n",
              "      <th>1</th>\n",
              "      <td>8.5304</td>\n",
              "      <td>1.2543</td>\n",
              "      <td>11.3047</td>\n",
              "      <td>5.1858</td>\n",
              "      <td>9.1974</td>\n",
              "      <td>-4.0117</td>\n",
              "      <td>6.0196</td>\n",
              "      <td>18.6316</td>\n",
              "      <td>-4.4131</td>\n",
              "      <td>5.9739</td>\n",
              "      <td>...</td>\n",
              "      <td>10.6165</td>\n",
              "      <td>8.8349</td>\n",
              "      <td>0.9403</td>\n",
              "      <td>10.1282</td>\n",
              "      <td>15.5765</td>\n",
              "      <td>0.4773</td>\n",
              "      <td>-1.4852</td>\n",
              "      <td>9.8714</td>\n",
              "      <td>19.1293</td>\n",
              "      <td>-20.9760</td>\n",
              "    </tr>\n",
              "    <tr>\n",
              "      <th>2</th>\n",
              "      <td>5.4827</td>\n",
              "      <td>-10.3581</td>\n",
              "      <td>10.1407</td>\n",
              "      <td>7.0479</td>\n",
              "      <td>10.2628</td>\n",
              "      <td>9.8052</td>\n",
              "      <td>4.8950</td>\n",
              "      <td>20.2537</td>\n",
              "      <td>1.5233</td>\n",
              "      <td>8.3442</td>\n",
              "      <td>...</td>\n",
              "      <td>-0.7484</td>\n",
              "      <td>10.9935</td>\n",
              "      <td>1.9803</td>\n",
              "      <td>2.1800</td>\n",
              "      <td>12.9813</td>\n",
              "      <td>2.1281</td>\n",
              "      <td>-7.1086</td>\n",
              "      <td>7.0618</td>\n",
              "      <td>19.8956</td>\n",
              "      <td>-23.1794</td>\n",
              "    </tr>\n",
              "    <tr>\n",
              "      <th>3</th>\n",
              "      <td>8.5374</td>\n",
              "      <td>-1.3222</td>\n",
              "      <td>12.0220</td>\n",
              "      <td>6.5749</td>\n",
              "      <td>8.8458</td>\n",
              "      <td>3.1744</td>\n",
              "      <td>4.9397</td>\n",
              "      <td>20.5660</td>\n",
              "      <td>3.3755</td>\n",
              "      <td>7.4578</td>\n",
              "      <td>...</td>\n",
              "      <td>9.5702</td>\n",
              "      <td>9.0766</td>\n",
              "      <td>1.6580</td>\n",
              "      <td>3.5813</td>\n",
              "      <td>15.1874</td>\n",
              "      <td>3.1656</td>\n",
              "      <td>3.9567</td>\n",
              "      <td>9.2295</td>\n",
              "      <td>13.0168</td>\n",
              "      <td>-4.2108</td>\n",
              "    </tr>\n",
              "    <tr>\n",
              "      <th>4</th>\n",
              "      <td>11.7058</td>\n",
              "      <td>-0.1327</td>\n",
              "      <td>14.1295</td>\n",
              "      <td>7.7506</td>\n",
              "      <td>9.1035</td>\n",
              "      <td>-8.5848</td>\n",
              "      <td>6.8595</td>\n",
              "      <td>10.6048</td>\n",
              "      <td>2.9890</td>\n",
              "      <td>7.1437</td>\n",
              "      <td>...</td>\n",
              "      <td>4.2259</td>\n",
              "      <td>9.1723</td>\n",
              "      <td>1.2835</td>\n",
              "      <td>3.3778</td>\n",
              "      <td>19.5542</td>\n",
              "      <td>-0.2860</td>\n",
              "      <td>-5.1612</td>\n",
              "      <td>7.2882</td>\n",
              "      <td>13.9260</td>\n",
              "      <td>-9.1846</td>\n",
              "    </tr>\n",
              "  </tbody>\n",
              "</table>\n",
              "<p>5 rows × 200 columns</p>\n",
              "</div>"
            ],
            "text/plain": [
              "     var_0    var_1    var_2   var_3    var_4   var_5   var_6    var_7  \\\n",
              "0  11.0656   7.7798  12.9536  9.4292  11.4327 -2.3805  5.8493  18.2675   \n",
              "1   8.5304   1.2543  11.3047  5.1858   9.1974 -4.0117  6.0196  18.6316   \n",
              "2   5.4827 -10.3581  10.1407  7.0479  10.2628  9.8052  4.8950  20.2537   \n",
              "3   8.5374  -1.3222  12.0220  6.5749   8.8458  3.1744  4.9397  20.5660   \n",
              "4  11.7058  -0.1327  14.1295  7.7506   9.1035 -8.5848  6.8595  10.6048   \n",
              "\n",
              "    var_8   var_9   ...     var_190  var_191  var_192  var_193  var_194  \\\n",
              "0  2.1337  8.8100   ...     -2.1556  11.8495  -1.4300   2.4508  13.7112   \n",
              "1 -4.4131  5.9739   ...     10.6165   8.8349   0.9403  10.1282  15.5765   \n",
              "2  1.5233  8.3442   ...     -0.7484  10.9935   1.9803   2.1800  12.9813   \n",
              "3  3.3755  7.4578   ...      9.5702   9.0766   1.6580   3.5813  15.1874   \n",
              "4  2.9890  7.1437   ...      4.2259   9.1723   1.2835   3.3778  19.5542   \n",
              "\n",
              "   var_195  var_196  var_197  var_198  var_199  \n",
              "0   2.4669   4.3654  10.7200  15.4722  -8.7197  \n",
              "1   0.4773  -1.4852   9.8714  19.1293 -20.9760  \n",
              "2   2.1281  -7.1086   7.0618  19.8956 -23.1794  \n",
              "3   3.1656   3.9567   9.2295  13.0168  -4.2108  \n",
              "4  -0.2860  -5.1612   7.2882  13.9260  -9.1846  \n",
              "\n",
              "[5 rows x 200 columns]"
            ]
          },
          "metadata": {
            "tags": []
          },
          "execution_count": 67
        }
      ]
    },
    {
      "metadata": {
        "id": "W3Wsq6INLTIP",
        "colab_type": "code",
        "colab": {}
      },
      "cell_type": "code",
      "source": [
        "#Submission Prediction\n",
        "y_pred=clf.predict(customers_w)\n"
      ],
      "execution_count": 0,
      "outputs": []
    },
    {
      "metadata": {
        "id": "1c29JH7VPDV5",
        "colab_type": "code",
        "colab": {}
      },
      "cell_type": "code",
      "source": [
        "#convert into binary values\n",
        "for i in range(0,len(customers_w)):\n",
        "    if y_pred[i]>=.5:      \n",
        "       y_pred[i]=1\n",
        "    else:  \n",
        "       y_pred[i]=0"
      ],
      "execution_count": 0,
      "outputs": []
    },
    {
      "metadata": {
        "id": "0f0r2_7qCalr",
        "colab_type": "code",
        "colab": {}
      },
      "cell_type": "code",
      "source": [
        "from sklearn.metrics import confusion_matrix"
      ],
      "execution_count": 0,
      "outputs": []
    },
    {
      "metadata": {
        "id": "6ynxd1TxCalw",
        "colab_type": "code",
        "colab": {}
      },
      "cell_type": "code",
      "source": [
        "cm = confusion_matrix(y_test,y_pred)"
      ],
      "execution_count": 0,
      "outputs": []
    },
    {
      "metadata": {
        "id": "_0SxxgB7Cal6",
        "colab_type": "code",
        "outputId": "90b05e45-8699-4ebc-d2f9-5ca728362f5f",
        "colab": {}
      },
      "cell_type": "code",
      "source": [
        "cm"
      ],
      "execution_count": 0,
      "outputs": [
        {
          "output_type": "execute_result",
          "data": {
            "text/plain": [
              "array([[53201,   711],\n",
              "       [ 4461,  1627]], dtype=int64)"
            ]
          },
          "metadata": {
            "tags": []
          },
          "execution_count": 152
        }
      ]
    },
    {
      "metadata": {
        "id": "wpCJ0HHkCamD",
        "colab_type": "code",
        "colab": {}
      },
      "cell_type": "code",
      "source": [
        "fpr, tpr, thresholds = metrics.roc_curve(y_test, y_pred, pos_label=None)\n"
      ],
      "execution_count": 0,
      "outputs": []
    },
    {
      "metadata": {
        "id": "W_rNo855CamM",
        "colab_type": "code",
        "outputId": "c7a2a36b-877f-4c8b-b22b-bbdd0598f532",
        "colab": {}
      },
      "cell_type": "code",
      "source": [
        "metrics.auc(fpr, tpr)"
      ],
      "execution_count": 0,
      "outputs": [
        {
          "output_type": "execute_result",
          "data": {
            "text/plain": [
              "0.6270294424417541"
            ]
          },
          "metadata": {
            "tags": []
          },
          "execution_count": 158
        }
      ]
    },
    {
      "metadata": {
        "id": "GKySb7UwONQd",
        "colab_type": "code",
        "colab": {}
      },
      "cell_type": "code",
      "source": [
        "## To check the values in the outcome of test data\n",
        "\n",
        "sub2_df = pd.DataFrame({\"Check\":y_pred})\n"
      ],
      "execution_count": 0,
      "outputs": []
    },
    {
      "metadata": {
        "id": "Si0hsku6QFLS",
        "colab_type": "code",
        "outputId": "c5c952ba-4a9f-43dc-e4ec-d56e0d7e648e",
        "colab": {
          "base_uri": "https://localhost:8080/",
          "height": 68
        }
      },
      "cell_type": "code",
      "source": [
        "sub2_df.Check.value_counts()"
      ],
      "execution_count": 0,
      "outputs": [
        {
          "output_type": "execute_result",
          "data": {
            "text/plain": [
              "0.0    111811\n",
              "1.0     88189\n",
              "Name: Check, dtype: int64"
            ]
          },
          "metadata": {
            "tags": []
          },
          "execution_count": 77
        }
      ]
    },
    {
      "metadata": {
        "id": "ZvFk9HgbNNIz",
        "colab_type": "code",
        "colab": {}
      },
      "cell_type": "code",
      "source": [
        "sub_df = pd.DataFrame({\"ID_code\": test_data[\"ID_code\"].values})"
      ],
      "execution_count": 0,
      "outputs": []
    },
    {
      "metadata": {
        "id": "uehnYl_IKDx_",
        "colab_type": "code",
        "colab": {}
      },
      "cell_type": "code",
      "source": [
        "sub_df['Target'] = y_pred"
      ],
      "execution_count": 0,
      "outputs": []
    },
    {
      "metadata": {
        "id": "mqKZhHhNKLXG",
        "colab_type": "code",
        "outputId": "c1aed316-7fb7-4c4c-8cc3-7b7935699f41",
        "colab": {
          "base_uri": "https://localhost:8080/",
          "height": 343
        }
      },
      "cell_type": "code",
      "source": [
        "sub_df.head(n=10)"
      ],
      "execution_count": 0,
      "outputs": [
        {
          "output_type": "execute_result",
          "data": {
            "text/html": [
              "<div>\n",
              "<style scoped>\n",
              "    .dataframe tbody tr th:only-of-type {\n",
              "        vertical-align: middle;\n",
              "    }\n",
              "\n",
              "    .dataframe tbody tr th {\n",
              "        vertical-align: top;\n",
              "    }\n",
              "\n",
              "    .dataframe thead th {\n",
              "        text-align: right;\n",
              "    }\n",
              "</style>\n",
              "<table border=\"1\" class=\"dataframe\">\n",
              "  <thead>\n",
              "    <tr style=\"text-align: right;\">\n",
              "      <th></th>\n",
              "      <th>ID_code</th>\n",
              "      <th>Target</th>\n",
              "    </tr>\n",
              "  </thead>\n",
              "  <tbody>\n",
              "    <tr>\n",
              "      <th>0</th>\n",
              "      <td>test_0</td>\n",
              "      <td>0.881119</td>\n",
              "    </tr>\n",
              "    <tr>\n",
              "      <th>1</th>\n",
              "      <td>test_1</td>\n",
              "      <td>0.762464</td>\n",
              "    </tr>\n",
              "    <tr>\n",
              "      <th>2</th>\n",
              "      <td>test_2</td>\n",
              "      <td>0.829372</td>\n",
              "    </tr>\n",
              "    <tr>\n",
              "      <th>3</th>\n",
              "      <td>test_3</td>\n",
              "      <td>0.848873</td>\n",
              "    </tr>\n",
              "    <tr>\n",
              "      <th>4</th>\n",
              "      <td>test_4</td>\n",
              "      <td>0.847817</td>\n",
              "    </tr>\n",
              "    <tr>\n",
              "      <th>5</th>\n",
              "      <td>test_5</td>\n",
              "      <td>0.768867</td>\n",
              "    </tr>\n",
              "    <tr>\n",
              "      <th>6</th>\n",
              "      <td>test_6</td>\n",
              "      <td>0.753833</td>\n",
              "    </tr>\n",
              "    <tr>\n",
              "      <th>7</th>\n",
              "      <td>test_7</td>\n",
              "      <td>0.868398</td>\n",
              "    </tr>\n",
              "    <tr>\n",
              "      <th>8</th>\n",
              "      <td>test_8</td>\n",
              "      <td>0.646610</td>\n",
              "    </tr>\n",
              "    <tr>\n",
              "      <th>9</th>\n",
              "      <td>test_9</td>\n",
              "      <td>0.548871</td>\n",
              "    </tr>\n",
              "  </tbody>\n",
              "</table>\n",
              "</div>"
            ],
            "text/plain": [
              "  ID_code    Target\n",
              "0  test_0  0.881119\n",
              "1  test_1  0.762464\n",
              "2  test_2  0.829372\n",
              "3  test_3  0.848873\n",
              "4  test_4  0.847817\n",
              "5  test_5  0.768867\n",
              "6  test_6  0.753833\n",
              "7  test_7  0.868398\n",
              "8  test_8  0.646610\n",
              "9  test_9  0.548871"
            ]
          },
          "metadata": {
            "tags": []
          },
          "execution_count": 58
        }
      ]
    },
    {
      "metadata": {
        "id": "dJdOOsziQ2c0",
        "colab_type": "code",
        "outputId": "83d04899-d733-4fb3-867d-4228f3d2c0bc",
        "colab": {
          "base_uri": "https://localhost:8080/",
          "height": 34
        }
      },
      "cell_type": "code",
      "source": [
        "y_pred.min()"
      ],
      "execution_count": 0,
      "outputs": [
        {
          "output_type": "execute_result",
          "data": {
            "text/plain": [
              "0.3747507297875012"
            ]
          },
          "metadata": {
            "tags": []
          },
          "execution_count": 59
        }
      ]
    },
    {
      "metadata": {
        "id": "CMIDp6RjlJg3",
        "colab_type": "code",
        "colab": {}
      },
      "cell_type": "code",
      "source": [
        "from sklearn.metrics import confusion_matrix"
      ],
      "execution_count": 0,
      "outputs": []
    },
    {
      "metadata": {
        "id": "vu70z4qjlLVh",
        "colab_type": "code",
        "outputId": "a207ad1e-5815-4029-bfeb-3e3af9ec3bff",
        "colab": {
          "base_uri": "https://localhost:8080/",
          "height": 51
        }
      },
      "cell_type": "code",
      "source": [
        "cm = confusion_matrix(y_test,y_pred)\n",
        "cm"
      ],
      "execution_count": 0,
      "outputs": [
        {
          "output_type": "execute_result",
          "data": {
            "text/plain": [
              "array([[36680,  8224],\n",
              "       [ 1305,  3791]])"
            ]
          },
          "metadata": {
            "tags": []
          },
          "execution_count": 59
        }
      ]
    },
    {
      "metadata": {
        "id": "UQEEhs00TMfz",
        "colab_type": "text"
      },
      "cell_type": "markdown",
      "source": [
        ""
      ]
    },
    {
      "metadata": {
        "id": "xO8V8pyHKg0w",
        "colab_type": "code",
        "colab": {}
      },
      "cell_type": "code",
      "source": [
        "## Excel\n",
        "\n",
        "sub_df.to_csv('Submission_4',sep = ',')"
      ],
      "execution_count": 0,
      "outputs": []
    },
    {
      "metadata": {
        "id": "6AZW4PpzKztj",
        "colab_type": "code",
        "colab": {}
      },
      "cell_type": "code",
      "source": [
        "num_round = 10000\n",
        "kfold = 5\n",
        "folds = StratifiedKFold(n_splits=kfold, shuffle=False, random_state=44000)\n",
        "oof = np.zeros(len(X))\n",
        "predictions = np.zeros(len(y))\n"
      ],
      "execution_count": 0,
      "outputs": []
    },
    {
      "metadata": {
        "id": "4bDCXlu2QJkp",
        "colab_type": "code",
        "colab": {}
      },
      "cell_type": "code",
      "source": [
        "features = [c for c in train_data.columns if c not in ['ID_code', 'target']]"
      ],
      "execution_count": 0,
      "outputs": []
    },
    {
      "metadata": {
        "id": "6u8eSAz5dran",
        "colab_type": "code",
        "outputId": "9351be91-8935-4bbd-839d-1d834294f6db",
        "colab": {
          "base_uri": "https://localhost:8080/",
          "height": 1176
        }
      },
      "cell_type": "code",
      "source": [
        "for fold_, (trn_idx, val_idx) in enumerate(folds.split(train_data.values, y.values)):\n",
        "    print(\"Fold {}\".format(fold_))\n",
        "    trn_data = lgb.Dataset(train_data.iloc[trn_idx][features], label=y.iloc[trn_idx])\n",
        "    val_data = lgb.Dataset(train_data.iloc[val_idx][features], label=y.iloc[val_idx])\n",
        "    clf = lgb.train(params, trn_data, num_round, valid_sets = [trn_data, val_data], verbose_eval=1000, early_stopping_rounds = 3500)\n",
        "    oof[val_idx] = clf.predict(train_data.iloc[val_idx][features], num_iteration=clf.best_iteration)\n",
        "    predictions += clf.predict(test_data[features], num_iteration=clf.best_iteration) / folds.n_splits"
      ],
      "execution_count": 0,
      "outputs": [
        {
          "output_type": "stream",
          "text": [
            "Fold 0\n",
            "Training until validation scores don't improve for 3500 rounds.\n",
            "[1000]\ttraining's binary_error: 0.0910131\tvalid_1's binary_error: 0.0948226\n",
            "[2000]\ttraining's binary_error: 0.072813\tvalid_1's binary_error: 0.0838979\n",
            "[3000]\ttraining's binary_error: 0.0630879\tvalid_1's binary_error: 0.079973\n",
            "[4000]\ttraining's binary_error: 0.0570066\tvalid_1's binary_error: 0.0776981\n",
            "[5000]\ttraining's binary_error: 0.0520378\tvalid_1's binary_error: 0.0772231\n",
            "[6000]\ttraining's binary_error: 0.0472378\tvalid_1's binary_error: 0.0770481\n",
            "[7000]\ttraining's binary_error: 0.0427003\tvalid_1's binary_error: 0.0768731\n",
            "[8000]\ttraining's binary_error: 0.0381877\tvalid_1's binary_error: 0.0773231\n",
            "[9000]\ttraining's binary_error: 0.033694\tvalid_1's binary_error: 0.0773731\n",
            "[10000]\ttraining's binary_error: 0.0297439\tvalid_1's binary_error: 0.0772731\n",
            "Did not meet early stopping. Best iteration is:\n",
            "[9994]\ttraining's binary_error: 0.0297127\tvalid_1's binary_error: 0.0772731\n",
            "Fold 1\n",
            "Training until validation scores don't improve for 3500 rounds.\n",
            "[1000]\ttraining's binary_error: 0.0911756\tvalid_1's binary_error: 0.0955976\n",
            "[2000]\ttraining's binary_error: 0.0727817\tvalid_1's binary_error: 0.0844479\n",
            "[3000]\ttraining's binary_error: 0.0625941\tvalid_1's binary_error: 0.080348\n",
            "[4000]\ttraining's binary_error: 0.0564816\tvalid_1's binary_error: 0.078098\n",
            "[5000]\ttraining's binary_error: 0.0514628\tvalid_1's binary_error: 0.078098\n",
            "[6000]\ttraining's binary_error: 0.0466753\tvalid_1's binary_error: 0.0778981\n",
            "[7000]\ttraining's binary_error: 0.0420565\tvalid_1's binary_error: 0.0777231\n",
            "[8000]\ttraining's binary_error: 0.037544\tvalid_1's binary_error: 0.0776231\n",
            "[9000]\ttraining's binary_error: 0.0333127\tvalid_1's binary_error: 0.0774731\n",
            "[10000]\ttraining's binary_error: 0.0290877\tvalid_1's binary_error: 0.0774981\n",
            "Did not meet early stopping. Best iteration is:\n",
            "[10000]\ttraining's binary_error: 0.0290877\tvalid_1's binary_error: 0.0774981\n",
            "Fold 2\n",
            "Training until validation scores don't improve for 3500 rounds.\n",
            "[1000]\ttraining's binary_error: 0.0909688\tvalid_1's binary_error: 0.0949\n",
            "[2000]\ttraining's binary_error: 0.0731062\tvalid_1's binary_error: 0.08375\n",
            "[3000]\ttraining's binary_error: 0.0634813\tvalid_1's binary_error: 0.07885\n",
            "[4000]\ttraining's binary_error: 0.0570312\tvalid_1's binary_error: 0.077575\n",
            "[5000]\ttraining's binary_error: 0.052025\tvalid_1's binary_error: 0.076425\n",
            "[6000]\ttraining's binary_error: 0.0472375\tvalid_1's binary_error: 0.0759\n",
            "[7000]\ttraining's binary_error: 0.0425562\tvalid_1's binary_error: 0.075825\n",
            "[8000]\ttraining's binary_error: 0.0380438\tvalid_1's binary_error: 0.0755\n",
            "[9000]\ttraining's binary_error: 0.03365\tvalid_1's binary_error: 0.07585\n",
            "[10000]\ttraining's binary_error: 0.0294562\tvalid_1's binary_error: 0.075975\n",
            "Did not meet early stopping. Best iteration is:\n",
            "[9995]\ttraining's binary_error: 0.0294312\tvalid_1's binary_error: 0.075925\n",
            "Fold 3\n",
            "Training until validation scores don't improve for 3500 rounds.\n",
            "[1000]\ttraining's binary_error: 0.0909994\tvalid_1's binary_error: 0.0953774\n",
            "[2000]\ttraining's binary_error: 0.072587\tvalid_1's binary_error: 0.0846771\n",
            "[3000]\ttraining's binary_error: 0.0630996\tvalid_1's binary_error: 0.080577\n",
            "[4000]\ttraining's binary_error: 0.0566246\tvalid_1's binary_error: 0.078827\n",
            "[5000]\ttraining's binary_error: 0.0520372\tvalid_1's binary_error: 0.078202\n",
            "[6000]\ttraining's binary_error: 0.0471122\tvalid_1's binary_error: 0.078052\n",
            "[7000]\ttraining's binary_error: 0.042356\tvalid_1's binary_error: 0.078202\n",
            "[8000]\ttraining's binary_error: 0.0379748\tvalid_1's binary_error: 0.078227\n",
            "[9000]\ttraining's binary_error: 0.033481\tvalid_1's binary_error: 0.078227\n",
            "Early stopping, best iteration is:\n",
            "[6308]\ttraining's binary_error: 0.0454997\tvalid_1's binary_error: 0.0777769\n",
            "Fold 4\n",
            "Training until validation scores don't improve for 3500 rounds.\n",
            "[1000]\ttraining's binary_error: 0.0913932\tvalid_1's binary_error: 0.0942274\n",
            "[2000]\ttraining's binary_error: 0.0732245\tvalid_1's binary_error: 0.0836771\n",
            "[3000]\ttraining's binary_error: 0.0634309\tvalid_1's binary_error: 0.078402\n",
            "[4000]\ttraining's binary_error: 0.0574184\tvalid_1's binary_error: 0.0762019\n",
            "[5000]\ttraining's binary_error: 0.0524059\tvalid_1's binary_error: 0.0752019\n",
            "[6000]\ttraining's binary_error: 0.0478122\tvalid_1's binary_error: 0.0751019\n",
            "[7000]\ttraining's binary_error: 0.043131\tvalid_1's binary_error: 0.0748019\n",
            "[8000]\ttraining's binary_error: 0.0384623\tvalid_1's binary_error: 0.0747019\n",
            "[9000]\ttraining's binary_error: 0.033981\tvalid_1's binary_error: 0.0749769\n",
            "[10000]\ttraining's binary_error: 0.0298186\tvalid_1's binary_error: 0.0751269\n",
            "Did not meet early stopping. Best iteration is:\n",
            "[9999]\ttraining's binary_error: 0.0298123\tvalid_1's binary_error: 0.0751019\n"
          ],
          "name": "stdout"
        }
      ]
    },
    {
      "metadata": {
        "id": "lj4bNZLvRZHK",
        "colab_type": "code",
        "outputId": "7b4ac62c-c595-4308-a1ca-2ec6bcba7b56",
        "colab": {
          "base_uri": "https://localhost:8080/",
          "height": 50
        }
      },
      "cell_type": "code",
      "source": [
        "print(\"\\n >> CV score: {:<8.5f}\".format(roc_auc_score(y, oof)))"
      ],
      "execution_count": 0,
      "outputs": [
        {
          "output_type": "stream",
          "text": [
            "\n",
            " >> CV score: 0.89599 \n"
          ],
          "name": "stdout"
        }
      ]
    },
    {
      "metadata": {
        "id": "HwlbE_iGqHv5",
        "colab_type": "code",
        "outputId": "a338beaa-76c5-41c9-d45f-eecc96333d9a",
        "colab": {
          "base_uri": "https://localhost:8080/",
          "height": 34
        }
      },
      "cell_type": "code",
      "source": [
        "predictions.min()"
      ],
      "execution_count": 0,
      "outputs": [
        {
          "output_type": "execute_result",
          "data": {
            "text/plain": [
              "1.7929903203843738e-05"
            ]
          },
          "metadata": {
            "tags": []
          },
          "execution_count": 38
        }
      ]
    },
    {
      "metadata": {
        "id": "BA76H7uNThjc",
        "colab_type": "text"
      },
      "cell_type": "markdown",
      "source": [
        "**Submission File Generation**"
      ]
    },
    {
      "metadata": {
        "id": "Uz8Y3DK4qWV6",
        "colab_type": "code",
        "colab": {}
      },
      "cell_type": "code",
      "source": [
        "submission=pd.DataFrame({\"ID_code\": test_data.ID_code.values})\n",
        "submission[\"target\"]=predictions\n",
        "submission.to_csv(\"submission_10.csv\", index=False)"
      ],
      "execution_count": 0,
      "outputs": []
    },
    {
      "metadata": {
        "id": "pZO6Q6sqvO5V",
        "colab_type": "code",
        "colab": {}
      },
      "cell_type": "code",
      "source": [
        "model = Sequential()\n",
        "model.add(Dense(200, input_dim=200, kernel_initializer='normal', activation='relu'))\n",
        "model.add(Dense(1, kernel_initializer='normal', activation='sigmoid'))\n",
        "model.compile(loss='binary_crossentropy',\n",
        "              optimizer=keras.optimizers.SGD(lr=0.001, momentum=0.9, nesterov=True))\n",
        "model.fit(X,y, epochs=10, verbose=1, validation_split=0.10, batch_size =32)\n",
        "\n"
      ],
      "execution_count": 0,
      "outputs": []
    },
    {
      "metadata": {
        "id": "KcK9LqYgbh7M",
        "colab_type": "code",
        "colab": {}
      },
      "cell_type": "code",
      "source": [
        "adam = keras.optimizers.Adam(lr=0.001)"
      ],
      "execution_count": 0,
      "outputs": []
    },
    {
      "metadata": {
        "id": "FbXkhF_2TqsH",
        "colab_type": "text"
      },
      "cell_type": "markdown",
      "source": [
        "**Neural Network  Baseline Model**"
      ]
    },
    {
      "metadata": {
        "id": "PaWpyVQGT5My",
        "colab_type": "code",
        "outputId": "a096e105-d552-4e9d-d14e-bc06de64940c",
        "colab": {
          "base_uri": "https://localhost:8080/",
          "height": 1091
        }
      },
      "cell_type": "code",
      "source": [
        "# baseline model\n",
        "# create model\n",
        "model = Sequential()\n",
        "model.add(Dense(200, input_dim=200, kernel_initializer='normal', activation='relu'))\n",
        "model.add(Dense(1, kernel_initializer='normal', activation='sigmoid'))\n",
        "# Compile model\n",
        "model.compile(loss='binary_crossentropy', optimizer='adam', metrics=['binary_accuracy'])\n",
        "model.fit(X,y, epochs=30, verbose=1, validation_split=0.05,batch_size = 16)"
      ],
      "execution_count": 48,
      "outputs": [
        {
          "output_type": "stream",
          "text": [
            "Train on 190000 samples, validate on 10000 samples\n",
            "Epoch 1/30\n",
            "190000/190000 [==============================] - 24s 128us/step - loss: 0.2674 - binary_accuracy: 0.9044 - val_loss: 0.2577 - val_binary_accuracy: 0.9096\n",
            "Epoch 2/30\n",
            "190000/190000 [==============================] - 23s 122us/step - loss: 0.2528 - binary_accuracy: 0.9085 - val_loss: 0.2680 - val_binary_accuracy: 0.9016\n",
            "Epoch 3/30\n",
            "190000/190000 [==============================] - 23s 122us/step - loss: 0.2496 - binary_accuracy: 0.9096 - val_loss: 0.2487 - val_binary_accuracy: 0.9099\n",
            "Epoch 4/30\n",
            "190000/190000 [==============================] - 23s 120us/step - loss: 0.2473 - binary_accuracy: 0.9096 - val_loss: 0.2782 - val_binary_accuracy: 0.8957\n",
            "Epoch 5/30\n",
            "190000/190000 [==============================] - 23s 118us/step - loss: 0.2461 - binary_accuracy: 0.9099 - val_loss: 0.2490 - val_binary_accuracy: 0.9116\n",
            "Epoch 6/30\n",
            "190000/190000 [==============================] - 22s 118us/step - loss: 0.2456 - binary_accuracy: 0.9105 - val_loss: 0.2508 - val_binary_accuracy: 0.9107\n",
            "Epoch 7/30\n",
            "190000/190000 [==============================] - 23s 121us/step - loss: 0.2445 - binary_accuracy: 0.9106 - val_loss: 0.2448 - val_binary_accuracy: 0.9121\n",
            "Epoch 8/30\n",
            "190000/190000 [==============================] - 23s 119us/step - loss: 0.2441 - binary_accuracy: 0.9104 - val_loss: 0.2448 - val_binary_accuracy: 0.9117\n",
            "Epoch 9/30\n",
            "190000/190000 [==============================] - 22s 118us/step - loss: 0.2434 - binary_accuracy: 0.9111 - val_loss: 0.2451 - val_binary_accuracy: 0.9116\n",
            "Epoch 10/30\n",
            "190000/190000 [==============================] - 22s 116us/step - loss: 0.2430 - binary_accuracy: 0.9109 - val_loss: 0.2442 - val_binary_accuracy: 0.9119\n",
            "Epoch 11/30\n",
            "190000/190000 [==============================] - 23s 119us/step - loss: 0.2426 - binary_accuracy: 0.9114 - val_loss: 0.2444 - val_binary_accuracy: 0.9110\n",
            "Epoch 12/30\n",
            "190000/190000 [==============================] - 22s 117us/step - loss: 0.2423 - binary_accuracy: 0.9108 - val_loss: 0.2471 - val_binary_accuracy: 0.9103\n",
            "Epoch 13/30\n",
            "190000/190000 [==============================] - 23s 118us/step - loss: 0.2420 - binary_accuracy: 0.9110 - val_loss: 0.2467 - val_binary_accuracy: 0.9116\n",
            "Epoch 14/30\n",
            "190000/190000 [==============================] - 23s 120us/step - loss: 0.2416 - binary_accuracy: 0.9114 - val_loss: 0.2434 - val_binary_accuracy: 0.9114\n",
            "Epoch 15/30\n",
            "190000/190000 [==============================] - 23s 119us/step - loss: 0.2413 - binary_accuracy: 0.9118 - val_loss: 0.2433 - val_binary_accuracy: 0.9125\n",
            "Epoch 16/30\n",
            "190000/190000 [==============================] - 22s 117us/step - loss: 0.2411 - binary_accuracy: 0.9116 - val_loss: 0.2500 - val_binary_accuracy: 0.9091\n",
            "Epoch 17/30\n",
            "190000/190000 [==============================] - 22s 117us/step - loss: 0.2409 - binary_accuracy: 0.9117 - val_loss: 0.2432 - val_binary_accuracy: 0.9126\n",
            "Epoch 18/30\n",
            "190000/190000 [==============================] - 23s 119us/step - loss: 0.2408 - binary_accuracy: 0.9116 - val_loss: 0.2431 - val_binary_accuracy: 0.9125\n",
            "Epoch 19/30\n",
            "190000/190000 [==============================] - 22s 115us/step - loss: 0.2405 - binary_accuracy: 0.9117 - val_loss: 0.2444 - val_binary_accuracy: 0.9119\n",
            "Epoch 20/30\n",
            "190000/190000 [==============================] - 23s 119us/step - loss: 0.2403 - binary_accuracy: 0.9120 - val_loss: 0.2427 - val_binary_accuracy: 0.9116\n",
            "Epoch 21/30\n",
            "190000/190000 [==============================] - 22s 116us/step - loss: 0.2401 - binary_accuracy: 0.9124 - val_loss: 0.2438 - val_binary_accuracy: 0.9115\n",
            "Epoch 22/30\n",
            "190000/190000 [==============================] - 22s 117us/step - loss: 0.2401 - binary_accuracy: 0.9118 - val_loss: 0.2438 - val_binary_accuracy: 0.9117\n",
            "Epoch 23/30\n",
            "190000/190000 [==============================] - 22s 117us/step - loss: 0.2399 - binary_accuracy: 0.9120 - val_loss: 0.2459 - val_binary_accuracy: 0.9116\n",
            "Epoch 24/30\n",
            "190000/190000 [==============================] - 22s 116us/step - loss: 0.2398 - binary_accuracy: 0.9121 - val_loss: 0.2419 - val_binary_accuracy: 0.9121\n",
            "Epoch 25/30\n",
            "190000/190000 [==============================] - 23s 119us/step - loss: 0.2395 - binary_accuracy: 0.9126 - val_loss: 0.2436 - val_binary_accuracy: 0.9120\n",
            "Epoch 26/30\n",
            "190000/190000 [==============================] - 22s 117us/step - loss: 0.2393 - binary_accuracy: 0.9122 - val_loss: 0.2429 - val_binary_accuracy: 0.9124\n",
            "Epoch 27/30\n",
            "190000/190000 [==============================] - 22s 118us/step - loss: 0.2396 - binary_accuracy: 0.9122 - val_loss: 0.2439 - val_binary_accuracy: 0.9118\n",
            "Epoch 28/30\n",
            "190000/190000 [==============================] - 23s 120us/step - loss: 0.2394 - binary_accuracy: 0.9125 - val_loss: 0.2438 - val_binary_accuracy: 0.9117\n",
            "Epoch 29/30\n",
            "190000/190000 [==============================] - 23s 121us/step - loss: 0.2393 - binary_accuracy: 0.9123 - val_loss: 0.2673 - val_binary_accuracy: 0.8964\n",
            "Epoch 30/30\n",
            "190000/190000 [==============================] - 22s 117us/step - loss: 0.2391 - binary_accuracy: 0.9123 - val_loss: 0.2422 - val_binary_accuracy: 0.9118\n"
          ],
          "name": "stdout"
        },
        {
          "output_type": "execute_result",
          "data": {
            "text/plain": [
              "<keras.callbacks.History at 0x7f0364fde668>"
            ]
          },
          "metadata": {
            "tags": []
          },
          "execution_count": 48
        }
      ]
    },
    {
      "metadata": {
        "id": "rhkViWmFj-i_",
        "colab_type": "code",
        "outputId": "f44ee003-ef9b-4772-8c20-8ba46127e880",
        "colab": {
          "base_uri": "https://localhost:8080/",
          "height": 34
        }
      },
      "cell_type": "code",
      "source": [
        "y_pred=model.predict_proba(X_test,verbose=1)"
      ],
      "execution_count": 49,
      "outputs": [
        {
          "output_type": "stream",
          "text": [
            "40000/40000 [==============================] - 1s 31us/step\n"
          ],
          "name": "stdout"
        }
      ]
    },
    {
      "metadata": {
        "id": "VlFhupvYj-_K",
        "colab_type": "code",
        "outputId": "95627344-b8db-4968-b4b6-8aa280fd5e80",
        "colab": {
          "base_uri": "https://localhost:8080/",
          "height": 34
        }
      },
      "cell_type": "code",
      "source": [
        "fpr, tpr, thresholds = metrics.roc_curve(y_test, y_pred, pos_label=None)\n",
        "metrics.auc(fpr,tpr)"
      ],
      "execution_count": 50,
      "outputs": [
        {
          "output_type": "execute_result",
          "data": {
            "text/plain": [
              "0.8544818131890696"
            ]
          },
          "metadata": {
            "tags": []
          },
          "execution_count": 50
        }
      ]
    },
    {
      "metadata": {
        "id": "5mnrZnnVT836",
        "colab_type": "code",
        "outputId": "537a4118-8d12-459a-b578-8a4c1d43f94f",
        "colab": {
          "base_uri": "https://localhost:8080/",
          "height": 739
        }
      },
      "cell_type": "code",
      "source": [
        "# evaluate model with standardized dataset\n",
        "estimator = KerasClassifier(build_fn=create_baseline, epochs=10, batch_size=5, verbose=1)\n",
        "kfold = StratifiedKFold(n_splits=2, shuffle=True, random_state=40)\n",
        "results = cross_val_score(estimator, X, y, cv=kfold)\n",
        "print(\"Results: %.2f%% (%.2f%%)\" % (results.mean()*100, results.std()*100))"
      ],
      "execution_count": 0,
      "outputs": [
        {
          "output_type": "stream",
          "text": [
            "Epoch 1/10\n",
            "100000/100000 [==============================] - 23s 234us/step - loss: 0.2715 - acc: 0.9030\n",
            "Epoch 2/10\n",
            "100000/100000 [==============================] - 23s 231us/step - loss: 0.2574 - acc: 0.9075\n",
            "Epoch 3/10\n",
            "100000/100000 [==============================] - 23s 230us/step - loss: 0.2528 - acc: 0.9084\n",
            "Epoch 4/10\n",
            "100000/100000 [==============================] - 23s 232us/step - loss: 0.2511 - acc: 0.9089\n",
            "Epoch 5/10\n",
            "100000/100000 [==============================] - 23s 231us/step - loss: 0.2494 - acc: 0.9097\n",
            "Epoch 6/10\n",
            "100000/100000 [==============================] - 23s 229us/step - loss: 0.2492 - acc: 0.9096\n",
            "Epoch 7/10\n",
            "100000/100000 [==============================] - 23s 232us/step - loss: 0.2479 - acc: 0.9096\n",
            "Epoch 8/10\n",
            "100000/100000 [==============================] - 23s 231us/step - loss: 0.2470 - acc: 0.9097\n",
            "Epoch 9/10\n",
            "100000/100000 [==============================] - 24s 242us/step - loss: 0.2469 - acc: 0.9099\n",
            "Epoch 10/10\n",
            "100000/100000 [==============================] - 23s 229us/step - loss: 0.2460 - acc: 0.9099\n",
            "100000/100000 [==============================] - 10s 102us/step\n",
            "Epoch 1/10\n",
            "100000/100000 [==============================] - 24s 237us/step - loss: 0.2713 - acc: 0.9036\n",
            "Epoch 2/10\n",
            "100000/100000 [==============================] - 23s 233us/step - loss: 0.2563 - acc: 0.9076\n",
            "Epoch 3/10\n",
            "100000/100000 [==============================] - 24s 239us/step - loss: 0.2526 - acc: 0.9085\n",
            "Epoch 4/10\n",
            "100000/100000 [==============================] - 23s 232us/step - loss: 0.2508 - acc: 0.9094\n",
            "Epoch 5/10\n",
            "100000/100000 [==============================] - 23s 233us/step - loss: 0.2486 - acc: 0.9091\n",
            "Epoch 6/10\n",
            "100000/100000 [==============================] - 23s 234us/step - loss: 0.2476 - acc: 0.9097\n",
            "Epoch 7/10\n",
            "100000/100000 [==============================] - 23s 232us/step - loss: 0.2473 - acc: 0.9101\n",
            "Epoch 8/10\n",
            "100000/100000 [==============================] - 23s 234us/step - loss: 0.2464 - acc: 0.9101\n",
            "Epoch 9/10\n",
            "100000/100000 [==============================] - 23s 232us/step - loss: 0.2463 - acc: 0.9103\n",
            "Epoch 10/10\n",
            "100000/100000 [==============================] - 23s 230us/step - loss: 0.2457 - acc: 0.9108\n",
            "100000/100000 [==============================] - 11s 112us/step\n",
            "Results: 91.16% (0.01%)\n"
          ],
          "name": "stdout"
        }
      ]
    },
    {
      "metadata": {
        "id": "IWXubDwiWa6k",
        "colab_type": "code",
        "colab": {}
      },
      "cell_type": "code",
      "source": [
        "\n"
      ],
      "execution_count": 0,
      "outputs": []
    },
    {
      "metadata": {
        "id": "6Q_97GLhcDP6",
        "colab_type": "code",
        "colab": {}
      },
      "cell_type": "code",
      "source": [
        ""
      ],
      "execution_count": 0,
      "outputs": []
    },
    {
      "metadata": {
        "id": "Lw-P1P-rf48W",
        "colab_type": "code",
        "outputId": "7c7f6110-885b-4685-8539-66d392ae0058",
        "colab": {
          "base_uri": "https://localhost:8080/",
          "height": 34
        }
      },
      "cell_type": "code",
      "source": [
        "y_pred.min()\n"
      ],
      "execution_count": 45,
      "outputs": [
        {
          "output_type": "execute_result",
          "data": {
            "text/plain": [
              "0.00013756752"
            ]
          },
          "metadata": {
            "tags": []
          },
          "execution_count": 45
        }
      ]
    },
    {
      "metadata": {
        "id": "BfK7ZS6sihUz",
        "colab_type": "code",
        "colab": {}
      },
      "cell_type": "code",
      "source": [
        "submission=pd.DataFrame({\"ID_code\": test_data.ID_code.values})\n",
        "submission[\"target\"]=y_pred\n",
        "submission.to_csv(\"submission_14.csv\", index=False)"
      ],
      "execution_count": 0,
      "outputs": []
    },
    {
      "metadata": {
        "id": "bS6gtL6ulc5A",
        "colab_type": "code",
        "colab": {}
      },
      "cell_type": "code",
      "source": [
        ""
      ],
      "execution_count": 0,
      "outputs": []
    }
  ]
}